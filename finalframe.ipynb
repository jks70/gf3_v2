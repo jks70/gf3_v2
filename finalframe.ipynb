{
 "cells": [
  {
   "cell_type": "code",
   "execution_count": 2,
   "metadata": {},
   "outputs": [],
   "source": [
    "from transmitter import *\n",
    "from reciever import *\n",
    "import numpy as np\n",
    "from scipy.signal import chirp, spectrogram\n",
    "import simpleaudio as sa\n",
    "from scipy.io.wavfile import write, read\n",
    "from scipy.fft import fft, ifft\n",
    "import matplotlib.pyplot as plt"
   ]
  },
  {
   "cell_type": "code",
   "execution_count": 5,
   "metadata": {},
   "outputs": [
    {
     "data": {
      "text/plain": [
       "array([1.+1.j, 1.+1.j, 1.+1.j, 1.+1.j, 1.+1.j, 1.+1.j, 1.+1.j, 1.+1.j,\n",
       "       1.+1.j, 1.+1.j, 1.+1.j, 1.+1.j, 1.+1.j, 1.+1.j, 1.+1.j, 1.+1.j,\n",
       "       1.+1.j, 1.+1.j, 1.+1.j, 1.+1.j, 1.+1.j])"
      ]
     },
     "execution_count": 5,
     "metadata": {},
     "output_type": "execute_result"
    }
   ],
   "source": [
    "fs = 44100\n",
    "class OFDM:\n",
    "    pass\n",
    "ofdm = OFDM()\n",
    "ofdm.N = 2048                   # Length of DTF\n",
    "ofdm.start_bin = 50\n",
    "ofdm.end_bin = 788\n",
    "ofdm.CP = 256                      \n",
    "ofdm.sfp = 60                   # Symbols per frame\n",
    "\n",
    "ofdm.num_tones = 21              # Number of pilot tones\n",
    "ofdm.pilot_locs = np.int64(np.linspace(49,789,ofdm.num_tones))     # Pilot locations\n",
    "ofdm.pilot_vals = np.array([1+1j]*21)\n",
    "\n",
    "ofdm.bps = 2                    # bits per symbol QFSK\n",
    "ofdm.spb = 720                  # data symbols per block\n",
    "ofdm.preamb = ofdm.N//2\n",
    "ofdm.QFSK_dict = {              # The constellation\n",
    "    (1,1) : -1-1j,\n",
    "    (1,0) :  1-1j,\n",
    "    (0,0) :  1+1j,\n",
    "    (0,1) : -1+1j}\n",
    "\n",
    "ofdm.pilot_vals"
   ]
  },
  {
   "cell_type": "code",
   "execution_count": 12,
   "metadata": {},
   "outputs": [
    {
     "name": "stdout",
     "output_type": "stream",
     "text": [
      "Length of bytes 26800.0\n",
      "256\n"
     ]
    }
   ],
   "source": [
    "bit_array = bitsFromTiff('jaguar.tiff')\n",
    "print('Length of bytes', len(bit_array)/8)\n",
    "\n",
    "payload = fullTrans(bit_array, ofdm)\n"
   ]
  },
  {
   "cell_type": "code",
   "execution_count": null,
   "metadata": {},
   "outputs": [],
   "source": [
    "def CUSTARD(payload,ofdm):\n",
    "    chirp = double_chirp().flatten()\n",
    "    exported_even, exported_odd = np.loadtxt('preamble_ofdm_symbols.csv',delimiter=',')\n",
    "    two_snc = np.concatenate((exported_even, exported_odd)).flatten()\n",
    "    four_snc = np.concatenate((two_snc, two_snc)).flatten()\n",
    "\n",
    "    transmission = np.concatenate((chirp,four_snc))\n",
    "    for i in range(len(payload)//ofdm.sfp):\n",
    "        transmission = np.concatenate((transmission, payload[i*60:60*i+60], two_snc))\n",
    "    if len(payload)%ofdm.sfp != 0:\n",
    "        transmission = np.concatenate((transmission, payload[-len(payload)%ofdm.sfp:], chirp))\n",
    "    \n",
    "    return transmission"
   ]
  },
  {
   "cell_type": "code",
   "execution_count": 19,
   "metadata": {},
   "outputs": [
    {
     "name": "stdout",
     "output_type": "stream",
     "text": [
      "0\n",
      "1\n",
      "7\n"
     ]
    }
   ],
   "source": [
    "for i in range(127//60):\n",
    "    print(i)\n",
    "print(127%60)"
   ]
  },
  {
   "cell_type": "code",
   "execution_count": null,
   "metadata": {},
   "outputs": [],
   "source": []
  }
 ],
 "metadata": {
  "kernelspec": {
   "display_name": "base",
   "language": "python",
   "name": "python3"
  },
  "language_info": {
   "codemirror_mode": {
    "name": "ipython",
    "version": 3
   },
   "file_extension": ".py",
   "mimetype": "text/x-python",
   "name": "python",
   "nbconvert_exporter": "python",
   "pygments_lexer": "ipython3",
   "version": "3.9.7"
  },
  "orig_nbformat": 4
 },
 "nbformat": 4,
 "nbformat_minor": 2
}
