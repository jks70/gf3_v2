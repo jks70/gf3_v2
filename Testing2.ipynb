{
 "cells": [
  {
   "attachments": {},
   "cell_type": "markdown",
   "metadata": {},
   "source": [
    "### This is a test for adding padding and new DFT lengths\n"
   ]
  },
  {
   "cell_type": "code",
   "execution_count": 1,
   "metadata": {},
   "outputs": [],
   "source": [
    "import numpy as np\n",
    "from scipy.signal import chirp, spectrogram\n",
    "import simpleaudio as sa\n",
    "from scipy.io.wavfile import write, read\n",
    "from scipy.fft import fft, ifft\n",
    "import matplotlib.pyplot as plt\n",
    "from transmitter import *\n",
    "from reciever import *\n",
    "import random"
   ]
  },
  {
   "cell_type": "code",
   "execution_count": 2,
   "metadata": {},
   "outputs": [
    {
     "data": {
      "text/plain": [
       "array([ 49,  86, 123, 160, 197, 234, 271, 308, 345, 382, 419, 456, 493,\n",
       "       530, 567, 604, 641, 678, 715, 752, 789])"
      ]
     },
     "execution_count": 2,
     "metadata": {},
     "output_type": "execute_result"
    }
   ],
   "source": [
    "fs = 44100\n",
    "class OFDM:\n",
    "    pass\n",
    "ofdm = OFDM()\n",
    "ofdm.N = 2048                   # Length of DTF\n",
    "ofdm.start_bin = 50\n",
    "ofdm.end_bin = 788\n",
    "ofdm.CP = 256                      \n",
    "ofdm.sfp = 20                   # Symbols per frame\n",
    "\n",
    "ofdm.num_tones = 21              # Number of pilot tones\n",
    "ofdm.pilot_locs = np.int64(np.linspace(49,789,ofdm.num_tones))     # Pilot locations\n",
    "ofdm.pilot_vals = np.array([1+1j]*21)\n",
    "\n",
    "ofdm.bps = 2                    # bits per symbol QFSK\n",
    "ofdm.spb = 720                  # data symbols per block\n",
    "ofdm.preamb = ofdm.N//2\n",
    "ofdm.QFSK_dict = {              # The constellation\n",
    "    (1,1) : -1-1j,\n",
    "    (1,0) :  1-1j,\n",
    "    (0,0) :  1+1j,\n",
    "    (0,1) : -1+1j}\n",
    "\n",
    "\n",
    "ofdm.rate = \"1/2\"\n",
    "ofdm.z = 81\n",
    "\n",
    "ofdm.pilot_locs"
   ]
  },
  {
   "cell_type": "code",
   "execution_count": 3,
   "metadata": {},
   "outputs": [],
   "source": [
    "def addGuard(timeDomain, ofdm):\n",
    "    print(ofdm.CP)\n",
    "    return np.hstack((timeDomain[:,-ofdm.CP:], timeDomain))"
   ]
  },
  {
   "cell_type": "code",
   "execution_count": 14,
   "metadata": {},
   "outputs": [],
   "source": [
    "def fullTrans(data, ofdm):\n",
    "\n",
    "    # ldpc implementation\n",
    "    ldpc = LDPC(rate = ofdm.rate, z = ofdm.z)\n",
    "    ldpc_ified = ldpc.encode(data)\n",
    "    \n",
    "    symb = bit2symbol(ldpc_ified, ofdm)\n",
    "\n",
    "    cut_symb = cut2Blocks(symb, ofdm)\n",
    "    # syb_padded = addpadding(cut_symb, ofdm)\n",
    "    all_symbs = goodSymbols(cut_symb,ofdm)\n",
    "\n",
    "    tds = ifft(all_symbs, 2048)\n",
    "    return addGuard(tds, ofdm)"
   ]
  },
  {
   "cell_type": "code",
   "execution_count": 15,
   "metadata": {},
   "outputs": [
    {
     "name": "stdout",
     "output_type": "stream",
     "text": [
      "Length of bits 26800.0\n",
      "(221, 1944)\n",
      "256\n"
     ]
    }
   ],
   "source": [
    "        ### Data forming With image\n",
    "bit_array = bitsFromTiff('jaguar.tiff')\n",
    "\n",
    "        ### Data from text\n",
    "#bit_array = \n",
    "print('Length of bits', len(bit_array)/8)\n",
    "\n",
    "payload = fullTrans(bit_array, ofdm)\n"
   ]
  },
  {
   "cell_type": "code",
   "execution_count": 7,
   "metadata": {},
   "outputs": [
    {
     "data": {
      "text/plain": [
       "array([-5., -5., -5.,  5.,  5.,  5., -5., -5., -5., -5., -5.,  5., -5.,\n",
       "        5.,  5., -5., -5., -5., -5.,  5., -5., -5., -5., -5., -5., -5.,\n",
       "       -5., -5., -5., -5., -5., -5., -5., -5., -5.,  5.,  5., -5.,  5.,\n",
       "        5., -5., -5., -5.,  5., -5.,  5.,  5., -5., -5., -5., -5.,  5.,\n",
       "       -5., -5., -5.,  5., -5., -5., -5., -5., -5., -5., -5., -5., -5.,\n",
       "       -5., -5.,  5.,  5., -5.,  5.,  5., -5., -5., -5.,  5., -5.,  5.,\n",
       "        5., -5., -5., -5., -5.,  5., -5., -5., -5.,  5., -5., -5., -5.,\n",
       "       -5., -5., -5., -5., -5., -5., -5., -5.,  5.,  5., -5.,  5.,  5.,\n",
       "       -5., -5., -5.,  5., -5.,  5.,  5., -5., -5., -5., -5.,  5., -5.,\n",
       "       -5.,  5., -5., -5., -5., -5., -5., -5., -5., -5., -5., -5., -5.,\n",
       "       -5.,  5.,  5., -5.,  5.,  5., -5., -5., -5.,  5., -5.,  5.,  5.,\n",
       "       -5., -5., -5., -5.,  5., -5., -5.,  5., -5., -5., -5., -5., -5.,\n",
       "       -5., -5., -5., -5., -5., -5., -5.,  5.,  5., -5.,  5.,  5., -5.,\n",
       "       -5., -5.,  5., -5.,  5.,  5., -5., -5., -5., -5.,  5., -5., -5.,\n",
       "       -5.,  5., -5., -5., -5., -5., -5., -5., -5., -5., -5., -5., -5.,\n",
       "        5.,  5., -5.,  5.,  5., -5., -5., -5.,  5., -5.,  5.,  5., -5.,\n",
       "       -5., -5., -5.,  5., -5., -5., -5.,  5., -5., -5., -5., -5., -5.,\n",
       "       -5., -5., -5., -5., -5., -5.,  5.,  5., -5.,  5., -5., -5., -5.,\n",
       "       -5.,  5., -5.,  5., -5.,  5., -5., -5., -5.,  5., -5., -5.,  5.,\n",
       "       -5., -5., -5., -5., -5., -5., -5., -5., -5., -5., -5., -5.,  5.,\n",
       "        5., -5.,  5., -5., -5., -5., -5.,  5., -5.,  5., -5.,  5., -5.,\n",
       "       -5., -5.,  5., -5., -5., -5.,  5., -5., -5., -5., -5., -5., -5.,\n",
       "       -5., -5., -5., -5., -5.,  5.,  5., -5.,  5., -5., -5., -5., -5.,\n",
       "        5., -5.,  5., -5.,  5., -5., -5., -5.,  5., -5., -5., -5.,  5.,\n",
       "       -5., -5., -5., -5., -5., -5., -5., -5., -5., -5., -5.,  5.,  5.,\n",
       "       -5.,  5., -5., -5., -5., -5.,  5., -5.,  5., -5.,  5., -5., -5.,\n",
       "       -5.,  5., -5., -5., -5.,  5., -5., -5., -5., -5., -5., -5., -5.,\n",
       "       -5., -5., -5., -5.,  5.,  5., -5.,  5., -5., -5., -5., -5.,  5.,\n",
       "       -5.,  5., -5.,  5., -5., -5., -5.,  5., -5., -5., -5.,  5., -5.,\n",
       "       -5., -5., -5., -5., -5., -5., -5., -5., -5., -5.,  5.,  5., -5.,\n",
       "        5., -5., -5., -5., -5.,  5., -5.,  5., -5.,  5., -5., -5., -5.,\n",
       "        5., -5., -5., -5.,  5., -5., -5., -5., -5., -5., -5., -5., -5.,\n",
       "       -5., -5., -5.,  5.,  5., -5.,  5., -5., -5., -5., -5.,  5., -5.,\n",
       "        5., -5.,  5., -5., -5., -5.,  5., -5., -5., -5.,  5., -5., -5.,\n",
       "       -5., -5., -5., -5., -5., -5., -5., -5., -5.,  5.,  5., -5.,  5.,\n",
       "       -5., -5., -5., -5.,  5., -5.,  5., -5.,  5., -5., -5., -5.,  5.,\n",
       "       -5., -5., -5.,  5., -5., -5., -5., -5., -5., -5., -5., -5., -5.,\n",
       "       -5., -5.,  5.,  5., -5.,  5., -5., -5., -5., -5.,  5., -5.,  5.,\n",
       "        5., -5., -5., -5., -5.,  5., -5., -5., -5.,  5., -5., -5., -5.,\n",
       "       -5., -5., -5., -5., -5., -5., -5., -5.,  5.,  5., -5.,  5., -5.,\n",
       "       -5., -5., -5.,  5., -5.,  5., -5.,  5., -5., -5., -5.,  5., -5.,\n",
       "       -5., -5., -5., -5., -5., -5., -5., -5., -5., -5., -5., -5., -5.,\n",
       "       -5.,  5.,  5., -5.,  5.,  5., -5., -5., -5.,  5., -5.,  5.,  5.,\n",
       "       -5., -5., -5., -5.,  5., -5., -5., -5., -5., -5., -5., -5., -5.,\n",
       "       -5., -5., -5., -5., -5., -5., -5.,  5.,  5., -5.,  5., -5., -5.,\n",
       "       -5., -5.,  5., -5.,  5., -5.,  5., -5., -5., -5.,  5., -5., -5.,\n",
       "       -5., -5., -5., -5., -5., -5., -5., -5., -5., -5., -5., -5., -5.,\n",
       "        5.,  5., -5.,  5., -5., -5., -5., -5.,  5., -5.,  5., -5.,  5.,\n",
       "       -5., -5., -5., -5.,  5.,  5.,  5.,  5., -5., -5., -5., -5., -5.,\n",
       "       -5., -5., -5., -5., -5., -5.,  5.,  5., -5.,  5., -5., -5., -5.,\n",
       "       -5.,  5., -5.,  5., -5.,  5., -5., -5., -5., -5.,  5.,  5.,  5.,\n",
       "        5., -5., -5., -5., -5., -5., -5., -5., -5., -5., -5., -5.,  5.,\n",
       "        5., -5., -5.,  5., -5., -5., -5.,  5., -5.,  5., -5., -5., -5.,\n",
       "       -5., -5., -5.,  5.,  5.,  5.,  5., -5., -5., -5., -5., -5., -5.,\n",
       "       -5., -5., -5., -5., -5.,  5.,  5., -5., -5.,  5., -5., -5., -5.,\n",
       "        5., -5.,  5., -5., -5., -5., -5., -5., -5.,  5.,  5.,  5.,  5.,\n",
       "       -5., -5., -5., -5., -5., -5., -5., -5., -5., -5., -5.,  5.,  5.,\n",
       "       -5., -5.,  5., -5., -5., -5.,  5., -5.,  5., -5., -5., -5., -5.,\n",
       "       -5., -5.,  5.,  5.,  5.,  5., -5., -5., -5., -5., -5., -5., -5.,\n",
       "       -5., -5., -5., -5.,  5.,  5., -5., -5., -5., -5., -5., -5.,  5.,\n",
       "       -5., -5.,  5.,  5., -5., -5., -5., -5.,  5.,  5.,  5.,  5., -5.,\n",
       "       -5., -5., -5., -5., -5., -5., -5., -5., -5., -5.,  5.,  5., -5.,\n",
       "       -5., -5., -5., -5., -5.,  5., -5., -5.,  5.,  5., -5., -5., -5.,\n",
       "       -5.,  5.,  5.,  5.,  5., -5., -5., -5., -5., -5., -5., -5., -5.,\n",
       "       -5., -5., -5.,  5.,  5., -5., -5., -5., -5., -5., -5.,  5., -5.,\n",
       "       -5.,  5.,  5., -5., -5., -5., -5.,  5.,  5.,  5.,  5., -5., -5.,\n",
       "       -5., -5., -5., -5., -5., -5., -5., -5., -5.,  5.,  5., -5., -5.,\n",
       "       -5., -5., -5., -5.,  5., -5., -5.,  5.,  5., -5., -5., -5., -5.,\n",
       "        5.,  5.,  5.,  5., -5., -5., -5., -5., -5., -5., -5., -5., -5.,\n",
       "       -5., -5.,  5.,  5., -5., -5., -5., -5., -5., -5.,  5., -5., -5.,\n",
       "        5.,  5., -5., -5., -5., -5.,  5.,  5.,  5.,  5., -5., -5., -5.,\n",
       "       -5., -5., -5., -5., -5., -5., -5., -5.,  5.,  5., -5., -5., -5.,\n",
       "       -5., -5., -5.,  5., -5., -5.,  5.,  5., -5., -5., -5., -5.,  5.,\n",
       "        5.,  5.,  5., -5., -5., -5., -5., -5., -5., -5., -5., -5., -5.,\n",
       "       -5.,  5.,  5., -5., -5., -5., -5., -5., -5.,  5.])"
      ]
     },
     "execution_count": 7,
     "metadata": {},
     "output_type": "execute_result"
    }
   ],
   "source": [
    "from transmitter import LDPC\n",
    "import numpy as np\n",
    "\n",
    "code = LDPC(ofdm.rate, ofdm.z)\n",
    "\n",
    "encoded = code.encode(bit_array)\n",
    "y = 10*(.5-encoded)\n",
    "\n",
    "app = code.decode(y)"
   ]
  },
  {
   "cell_type": "code",
   "execution_count": 4,
   "metadata": {},
   "outputs": [
    {
     "name": "stdout",
     "output_type": "stream",
     "text": [
      "972\n",
      "(972,)\n",
      "[0 1 1 0 1 1 0 0 0 0 1 1 0 1 0 0 0 0 0 1]\n",
      "[0 1 1 0 1 1 0 0 0 0 1 1 0 1 0 0 0 0 0 1]\n"
     ]
    },
    {
     "data": {
      "text/plain": [
       "array([ 5., -5., -5.,  5., -5., -5.,  5.,  5.,  5.,  5., -5., -5.,  5.,\n",
       "       -5.,  5.,  5.,  5.,  5.,  5., -5.])"
      ]
     },
     "execution_count": 4,
     "metadata": {},
     "output_type": "execute_result"
    }
   ],
   "source": [
    "import ldpc_jossy.py.ldpc as ldpc\n",
    "\n",
    "c = ldpc.code(rate = ofdm.rate, z = ofdm.z, standard = \"802.11n\")\n",
    "print(c.K)\n",
    "\n",
    "x = np.random.randint(0,2,c.K)\n",
    "print(x.shape)\n",
    "print(x[:20])\n",
    "\n",
    "encoded = c.encode(x)\n",
    "print(encoded[:20])\n",
    "\n",
    "decoded, it = c.decode(10 * (0.5 - encoded), dectype = \"sumprod2\")\n",
    "decoded[:20]"
   ]
  },
  {
   "cell_type": "code",
   "execution_count": 7,
   "metadata": {},
   "outputs": [
    {
     "data": {
      "text/plain": [
       "1944"
      ]
     },
     "execution_count": 7,
     "metadata": {},
     "output_type": "execute_result"
    }
   ],
   "source": [
    "c.Nv"
   ]
  },
  {
   "cell_type": "code",
   "execution_count": 7,
   "metadata": {},
   "outputs": [],
   "source": [
    "def standard_deconstructor(aud, ofdm, channel_H = None, retSymbs = False):\n",
    "    N = ofdm.N\n",
    "    L = ofdm.CP\n",
    "    QFSK_dict  = ofdm.QFSK_dict\n",
    "    backwards_dict = {v : k for k, v in QFSK_dict.items()}\n",
    "\n",
    "    bits_organised = aud.reshape((-1, L+N))\n",
    "\n",
    "    cut_bits = bits_organised[:,L:]\n",
    "\n",
    "    freq_data = fft(cut_bits)\n",
    "\n",
    "    # symbols = freq_data[:,1:int(N/2)]\n",
    "\n",
    "    # equalisation\n",
    "\n",
    "    if channel_H is None:\n",
    "        pass\n",
    "    else:\n",
    "        freq_data = freq_data / channel_H\n",
    "\n",
    "    symbols = extractor(freq_data, ofdm)\n",
    "    print(symbols.shape)\n",
    "\n",
    "    soliddata=[]\n",
    "    for i in symbols:\n",
    "        for j in i:\n",
    "            if j.real > 0 and j.imag > 0:\n",
    "                soliddata.extend([backwards_dict[1+1j][0],backwards_dict[1+1j][1]])\n",
    "            elif j.real < 0 and j.imag > 0:\n",
    "                soliddata.extend([backwards_dict[-1+1j][0],backwards_dict[-1+1j][1]])\n",
    "            elif j.real > 0 and j.imag < 0:\n",
    "                soliddata.extend([backwards_dict[1-1j][0],backwards_dict[1-1j][1]])\n",
    "            else:\n",
    "                soliddata.extend([backwards_dict[-1-1j][0],backwards_dict[-1-1j][1]])\n",
    "\n",
    "    coder = LDPC(rate = ofdm.rate, z = ofdm.z)\n",
    "    decoded = coder.decode(np.array(soliddata))\n",
    "    \n",
    "    if retSymbs == True:\n",
    "        return np.array(decoded), symbols\n",
    "    else:\n",
    "        return np.array(decoded)"
   ]
  },
  {
   "cell_type": "code",
   "execution_count": 8,
   "metadata": {},
   "outputs": [
    {
     "name": "stdout",
     "output_type": "stream",
     "text": [
      "Length of bits 26800.0\n",
      "256\n",
      "(299, 2304)\n",
      "(299, 720)\n"
     ]
    },
    {
     "ename": "ValueError",
     "evalue": "cannot reshape array of size 430560 into shape (1944)",
     "output_type": "error",
     "traceback": [
      "\u001b[0;31m---------------------------------------------------------------------------\u001b[0m",
      "\u001b[0;31mValueError\u001b[0m                                Traceback (most recent call last)",
      "\u001b[0;32m<ipython-input-8-55b545941679>\u001b[0m in \u001b[0;36m<module>\u001b[0;34m\u001b[0m\n\u001b[1;32m     12\u001b[0m \u001b[0;34m\u001b[0m\u001b[0m\n\u001b[1;32m     13\u001b[0m \u001b[0mplt\u001b[0m\u001b[0;34m.\u001b[0m\u001b[0mplot\u001b[0m\u001b[0;34m(\u001b[0m\u001b[0mpayload\u001b[0m\u001b[0;34m.\u001b[0m\u001b[0mflatten\u001b[0m\u001b[0;34m(\u001b[0m\u001b[0;34m)\u001b[0m\u001b[0;34m[\u001b[0m\u001b[0;36m50000\u001b[0m\u001b[0;34m:\u001b[0m\u001b[0;36m51000\u001b[0m\u001b[0;34m]\u001b[0m\u001b[0;34m)\u001b[0m\u001b[0;34m\u001b[0m\u001b[0;34m\u001b[0m\u001b[0m\n\u001b[0;32m---> 14\u001b[0;31m \u001b[0mx\u001b[0m \u001b[0;34m=\u001b[0m \u001b[0mstandard_deconstructor\u001b[0m\u001b[0;34m(\u001b[0m\u001b[0mpayload\u001b[0m\u001b[0;34m.\u001b[0m\u001b[0mflatten\u001b[0m\u001b[0;34m(\u001b[0m\u001b[0;34m)\u001b[0m\u001b[0;34m,\u001b[0m \u001b[0mofdm\u001b[0m\u001b[0;34m,\u001b[0m \u001b[0mchannel_H\u001b[0m \u001b[0;34m=\u001b[0m \u001b[0;32mNone\u001b[0m\u001b[0;34m,\u001b[0m \u001b[0mretSymbs\u001b[0m \u001b[0;34m=\u001b[0m \u001b[0;32mFalse\u001b[0m\u001b[0;34m)\u001b[0m\u001b[0;34m\u001b[0m\u001b[0;34m\u001b[0m\u001b[0m\n\u001b[0m\u001b[1;32m     15\u001b[0m \u001b[0mprint\u001b[0m\u001b[0;34m(\u001b[0m\u001b[0mx\u001b[0m\u001b[0;34m.\u001b[0m\u001b[0mshape\u001b[0m\u001b[0;34m)\u001b[0m\u001b[0;34m\u001b[0m\u001b[0;34m\u001b[0m\u001b[0m\n\u001b[1;32m     16\u001b[0m \u001b[0mbitsToSaveImage\u001b[0m\u001b[0;34m(\u001b[0m\u001b[0mx\u001b[0m\u001b[0;34m[\u001b[0m\u001b[0;34m:\u001b[0m\u001b[0;36m214400\u001b[0m\u001b[0;34m]\u001b[0m\u001b[0;34m,\u001b[0m \u001b[0;34m'trialpayload'\u001b[0m\u001b[0;34m,\u001b[0m \u001b[0;36m67\u001b[0m\u001b[0;34m,\u001b[0m \u001b[0;36m100\u001b[0m\u001b[0;34m)\u001b[0m\u001b[0;34m\u001b[0m\u001b[0;34m\u001b[0m\u001b[0m\n",
      "\u001b[0;32m<ipython-input-7-1c9702182d9e>\u001b[0m in \u001b[0;36mstandard_deconstructor\u001b[0;34m(aud, ofdm, channel_H, retSymbs)\u001b[0m\n\u001b[1;32m     36\u001b[0m \u001b[0;34m\u001b[0m\u001b[0m\n\u001b[1;32m     37\u001b[0m     \u001b[0mcoder\u001b[0m \u001b[0;34m=\u001b[0m \u001b[0mLDPC\u001b[0m\u001b[0;34m(\u001b[0m\u001b[0mrate\u001b[0m \u001b[0;34m=\u001b[0m \u001b[0mofdm\u001b[0m\u001b[0;34m.\u001b[0m\u001b[0mrate\u001b[0m\u001b[0;34m,\u001b[0m \u001b[0mz\u001b[0m \u001b[0;34m=\u001b[0m \u001b[0mofdm\u001b[0m\u001b[0;34m.\u001b[0m\u001b[0mz\u001b[0m\u001b[0;34m)\u001b[0m\u001b[0;34m\u001b[0m\u001b[0;34m\u001b[0m\u001b[0m\n\u001b[0;32m---> 38\u001b[0;31m     \u001b[0mdecoded\u001b[0m \u001b[0;34m=\u001b[0m \u001b[0mcoder\u001b[0m\u001b[0;34m.\u001b[0m\u001b[0mdecode\u001b[0m\u001b[0;34m(\u001b[0m\u001b[0mnp\u001b[0m\u001b[0;34m.\u001b[0m\u001b[0marray\u001b[0m\u001b[0;34m(\u001b[0m\u001b[0msoliddata\u001b[0m\u001b[0;34m)\u001b[0m\u001b[0;34m)\u001b[0m\u001b[0;34m\u001b[0m\u001b[0;34m\u001b[0m\u001b[0m\n\u001b[0m\u001b[1;32m     39\u001b[0m \u001b[0;34m\u001b[0m\u001b[0m\n\u001b[1;32m     40\u001b[0m     \u001b[0;32mif\u001b[0m \u001b[0mretSymbs\u001b[0m \u001b[0;34m==\u001b[0m \u001b[0;32mTrue\u001b[0m\u001b[0;34m:\u001b[0m\u001b[0;34m\u001b[0m\u001b[0;34m\u001b[0m\u001b[0m\n",
      "\u001b[0;32m~/Cambridge Engineering IIA/GF3/gf3_v2/transmitter.py\u001b[0m in \u001b[0;36mdecode\u001b[0;34m(self, bin_seq)\u001b[0m\n\u001b[1;32m     33\u001b[0m \u001b[0;34m\u001b[0m\u001b[0m\n\u001b[1;32m     34\u001b[0m     \u001b[0;32mdef\u001b[0m \u001b[0mdecode\u001b[0m\u001b[0;34m(\u001b[0m\u001b[0mself\u001b[0m\u001b[0;34m,\u001b[0m \u001b[0mbin_seq\u001b[0m\u001b[0;34m)\u001b[0m\u001b[0;34m:\u001b[0m\u001b[0;34m\u001b[0m\u001b[0;34m\u001b[0m\u001b[0m\n\u001b[0;32m---> 35\u001b[0;31m         \u001b[0mrecoerced\u001b[0m \u001b[0;34m=\u001b[0m \u001b[0mbin_seq\u001b[0m\u001b[0;34m.\u001b[0m\u001b[0mreshape\u001b[0m\u001b[0;34m(\u001b[0m\u001b[0;34m-\u001b[0m\u001b[0;36m1\u001b[0m\u001b[0;34m,\u001b[0m \u001b[0mself\u001b[0m\u001b[0;34m.\u001b[0m\u001b[0mcoder\u001b[0m\u001b[0;34m.\u001b[0m\u001b[0mpcmat\u001b[0m\u001b[0;34m(\u001b[0m\u001b[0;34m)\u001b[0m\u001b[0;34m.\u001b[0m\u001b[0mshape\u001b[0m\u001b[0;34m[\u001b[0m\u001b[0;36m1\u001b[0m\u001b[0;34m]\u001b[0m\u001b[0;34m)\u001b[0m\u001b[0;34m\u001b[0m\u001b[0;34m\u001b[0m\u001b[0m\n\u001b[0m\u001b[1;32m     36\u001b[0m         \u001b[0mstepper\u001b[0m \u001b[0;34m=\u001b[0m \u001b[0mnp\u001b[0m\u001b[0;34m.\u001b[0m\u001b[0marray\u001b[0m\u001b[0;34m(\u001b[0m\u001b[0;34m[\u001b[0m\u001b[0mself\u001b[0m\u001b[0;34m.\u001b[0m\u001b[0mcoder\u001b[0m\u001b[0;34m.\u001b[0m\u001b[0mdecode\u001b[0m\u001b[0;34m(\u001b[0m\u001b[0mrc\u001b[0m\u001b[0;34m)\u001b[0m\u001b[0;34m[\u001b[0m\u001b[0;36m0\u001b[0m\u001b[0;34m]\u001b[0m \u001b[0;32mfor\u001b[0m \u001b[0mrc\u001b[0m \u001b[0;32min\u001b[0m \u001b[0mrecoerced\u001b[0m\u001b[0;34m]\u001b[0m\u001b[0;34m)\u001b[0m\u001b[0;34m[\u001b[0m\u001b[0;34m:\u001b[0m\u001b[0;34m,\u001b[0m\u001b[0;34m:\u001b[0m\u001b[0mself\u001b[0m\u001b[0;34m.\u001b[0m\u001b[0mcoder\u001b[0m\u001b[0;34m.\u001b[0m\u001b[0mK\u001b[0m\u001b[0;34m]\u001b[0m\u001b[0;34m\u001b[0m\u001b[0;34m\u001b[0m\u001b[0m\n\u001b[1;32m     37\u001b[0m         \u001b[0mstepper\u001b[0m\u001b[0;34m[\u001b[0m\u001b[0mstepper\u001b[0m \u001b[0;34m==\u001b[0m \u001b[0;34m-\u001b[0m\u001b[0;36m5\u001b[0m\u001b[0;34m]\u001b[0m \u001b[0;34m=\u001b[0m \u001b[0;36m1.\u001b[0m\u001b[0;34m\u001b[0m\u001b[0;34m\u001b[0m\u001b[0m\n",
      "\u001b[0;31mValueError\u001b[0m: cannot reshape array of size 430560 into shape (1944)"
     ]
    },
    {
     "data": {
      "image/png": "[encoded data removed]",
      "text/plain": [
       "<Figure size 432x288 with 1 Axes>"
      ]
     },
     "metadata": {
      "needs_background": "light"
     },
     "output_type": "display_data"
    }
   ],
   "source": [
    "        ### Data forming With image\n",
    "bit_array = bitsFromTiff('jaguar.tiff')\n",
    "\n",
    "        ### Data from text\n",
    "#bit_array = \n",
    "print('Length of bits', len(bit_array)/8)\n",
    "\n",
    "payload = fullTrans(bit_array, ofdm)\n",
    "\n",
    "print(payload.shape)\n",
    "\n",
    "\n",
    "plt.plot(payload.flatten()[50000:51000])\n",
    "x = standard_deconstructor(payload.flatten(), ofdm, channel_H = None, retSymbs = False)\n",
    "print(x.shape)\n",
    "bitsToSaveImage(x[:214400], 'trialpayload', 67, 100)"
   ]
  },
  {
   "cell_type": "code",
   "execution_count": 3,
   "metadata": {},
   "outputs": [
    {
     "name": "stdout",
     "output_type": "stream",
     "text": [
      "Length of bits 26800.0\n"
     ]
    },
    {
     "ename": "AttributeError",
     "evalue": "'numpy.ndarray' object has no attribute 'bps'",
     "output_type": "error",
     "traceback": [
      "\u001b[0;31m---------------------------------------------------------------------------\u001b[0m",
      "\u001b[0;31mAttributeError\u001b[0m                            Traceback (most recent call last)",
      "\u001b[0;32m<ipython-input-3-44e812763a07>\u001b[0m in \u001b[0;36m<module>\u001b[0;34m\u001b[0m\n\u001b[1;32m      9\u001b[0m \u001b[0;34m\u001b[0m\u001b[0m\n\u001b[1;32m     10\u001b[0m \u001b[0;34m\u001b[0m\u001b[0m\n\u001b[0;32m---> 11\u001b[0;31m \u001b[0mpayload\u001b[0m \u001b[0;34m=\u001b[0m \u001b[0mfullTrans\u001b[0m\u001b[0;34m(\u001b[0m\u001b[0mzeros\u001b[0m\u001b[0;34m,\u001b[0m \u001b[0mofdm\u001b[0m\u001b[0;34m)\u001b[0m\u001b[0;34m\u001b[0m\u001b[0;34m\u001b[0m\u001b[0m\n\u001b[0m\u001b[1;32m     12\u001b[0m \u001b[0;31m#flat_payload = payload.flatten() / np.max(np.abs(payload.flatten()))\u001b[0m\u001b[0;34m\u001b[0m\u001b[0;34m\u001b[0m\u001b[0;34m\u001b[0m\u001b[0m\n\u001b[1;32m     13\u001b[0m \u001b[0mprint\u001b[0m\u001b[0;34m(\u001b[0m\u001b[0;34m\"payload shape:\"\u001b[0m\u001b[0;34m,\u001b[0m\u001b[0mnp\u001b[0m\u001b[0;34m.\u001b[0m\u001b[0mshape\u001b[0m\u001b[0;34m(\u001b[0m\u001b[0mpayload\u001b[0m\u001b[0;34m)\u001b[0m\u001b[0;34m)\u001b[0m\u001b[0;34m\u001b[0m\u001b[0;34m\u001b[0m\u001b[0m\n",
      "\u001b[0;32m~/Cambridge Engineering IIA/GF3/gf3_v2/transmitter.py\u001b[0m in \u001b[0;36mfullTrans\u001b[0;34m(data, ofdm)\u001b[0m\n\u001b[1;32m    145\u001b[0m     \u001b[0mldpc_ified\u001b[0m \u001b[0;34m=\u001b[0m \u001b[0mldpc\u001b[0m\u001b[0;34m.\u001b[0m\u001b[0mencode\u001b[0m\u001b[0;34m(\u001b[0m\u001b[0mdata\u001b[0m\u001b[0;34m)\u001b[0m\u001b[0;34m\u001b[0m\u001b[0;34m\u001b[0m\u001b[0m\n\u001b[1;32m    146\u001b[0m \u001b[0;34m\u001b[0m\u001b[0m\n\u001b[0;32m--> 147\u001b[0;31m     \u001b[0msymb\u001b[0m \u001b[0;34m=\u001b[0m \u001b[0mbit2symbol\u001b[0m\u001b[0;34m(\u001b[0m\u001b[0mdata\u001b[0m\u001b[0;34m,\u001b[0m \u001b[0mldpc_ified\u001b[0m\u001b[0;34m)\u001b[0m\u001b[0;34m\u001b[0m\u001b[0;34m\u001b[0m\u001b[0m\n\u001b[0m\u001b[1;32m    148\u001b[0m \u001b[0;34m\u001b[0m\u001b[0m\n\u001b[1;32m    149\u001b[0m     \u001b[0mcut_symb\u001b[0m \u001b[0;34m=\u001b[0m \u001b[0mcut2Blocks\u001b[0m\u001b[0;34m(\u001b[0m\u001b[0msymb\u001b[0m\u001b[0;34m,\u001b[0m \u001b[0mofdm\u001b[0m\u001b[0;34m)\u001b[0m\u001b[0;34m\u001b[0m\u001b[0;34m\u001b[0m\u001b[0m\n",
      "\u001b[0;32m~/Cambridge Engineering IIA/GF3/gf3_v2/transmitter.py\u001b[0m in \u001b[0;36mbit2symbol\u001b[0;34m(x, ofdm)\u001b[0m\n\u001b[1;32m     39\u001b[0m \u001b[0;31m# Takes an array of bits and converts it to a 1d array of symbols\u001b[0m\u001b[0;34m\u001b[0m\u001b[0;34m\u001b[0m\u001b[0;34m\u001b[0m\u001b[0m\n\u001b[1;32m     40\u001b[0m \u001b[0;32mdef\u001b[0m \u001b[0mbit2symbol\u001b[0m\u001b[0;34m(\u001b[0m\u001b[0mx\u001b[0m\u001b[0;34m,\u001b[0m \u001b[0mofdm\u001b[0m\u001b[0;34m)\u001b[0m\u001b[0;34m:\u001b[0m\u001b[0;34m\u001b[0m\u001b[0;34m\u001b[0m\u001b[0m\n\u001b[0;32m---> 41\u001b[0;31m     \u001b[0mbits_organised\u001b[0m \u001b[0;34m=\u001b[0m \u001b[0mx\u001b[0m\u001b[0;34m.\u001b[0m\u001b[0mreshape\u001b[0m\u001b[0;34m(\u001b[0m\u001b[0;34m(\u001b[0m\u001b[0;34m-\u001b[0m\u001b[0;36m1\u001b[0m\u001b[0;34m,\u001b[0m \u001b[0mofdm\u001b[0m\u001b[0;34m.\u001b[0m\u001b[0mbps\u001b[0m\u001b[0;34m)\u001b[0m\u001b[0;34m)\u001b[0m \u001b[0;31m# organise the bits into lengths of bps\u001b[0m\u001b[0;34m\u001b[0m\u001b[0;34m\u001b[0m\u001b[0m\n\u001b[0m\u001b[1;32m     42\u001b[0m     \u001b[0;32mreturn\u001b[0m \u001b[0mnp\u001b[0m\u001b[0;34m.\u001b[0m\u001b[0marray\u001b[0m\u001b[0;34m(\u001b[0m\u001b[0;34m[\u001b[0m\u001b[0mofdm\u001b[0m\u001b[0;34m.\u001b[0m\u001b[0mQFSK_dict\u001b[0m\u001b[0;34m[\u001b[0m\u001b[0mtuple\u001b[0m\u001b[0;34m(\u001b[0m\u001b[0mb\u001b[0m\u001b[0;34m)\u001b[0m\u001b[0;34m]\u001b[0m \u001b[0;32mfor\u001b[0m \u001b[0mb\u001b[0m \u001b[0;32min\u001b[0m \u001b[0mbits_organised\u001b[0m\u001b[0;34m]\u001b[0m\u001b[0;34m)\u001b[0m\u001b[0;34m\u001b[0m\u001b[0;34m\u001b[0m\u001b[0m\n\u001b[1;32m     43\u001b[0m \u001b[0;34m\u001b[0m\u001b[0m\n",
      "\u001b[0;31mAttributeError\u001b[0m: 'numpy.ndarray' object has no attribute 'bps'"
     ]
    }
   ],
   "source": [
    "        ### Data forming With image\n",
    "bit_array = bitsFromTiff('jaguar.tiff')\n",
    "\n",
    "        ### Data from text\n",
    "#bit_array = \n",
    "print('Length of bits', len(bit_array)/8)\n",
    "\n",
    "zeros = np.zeros(bit_array.shape)\n",
    "\n",
    "\n",
    "payload = fullTrans(zeros, ofdm)\n",
    "#flat_payload = payload.flatten() / np.max(np.abs(payload.flatten()))\n",
    "print(\"payload shape:\",np.shape(payload))\n",
    "\n",
    "\"\"\" \n",
    "\n",
    "# pilot_symbs = goodSymbols(payload, ofdm)\n",
    "pilot_full = addGuard(inversedft(pilot_symbs), ofdm)\n",
    "pilot_full = pilot_full.flatten() / np.max(np.abs(pilot_full.flatten()))\n",
    "\n",
    "/Users/metehergul/Cambridge Engineering IIA/GF3/gf3_v2/transmitter.py\n",
    "\n",
    "### Chirp makeing for sync\n",
    "chirp_time = 5*(ofdm.N+ofdm.CP) / fs\n",
    "t = np.linspace(0, chirp_time, int(chirp_time * fs), False)\n",
    "note = chirp(t, f0=500, f1=15000, t1=chirp_time, method='linear')\n",
    "chirp_symbol = note / np.max(np.abs(note)) \"\"\""
   ]
  },
  {
   "cell_type": "code",
   "execution_count": 57,
   "metadata": {},
   "outputs": [
    {
     "data": {
      "text/plain": [
       "(149, 2304)"
      ]
     },
     "execution_count": 57,
     "metadata": {},
     "output_type": "execute_result"
    }
   ],
   "source": [
    "payload.shape"
   ]
  },
  {
   "cell_type": "code",
   "execution_count": 41,
   "metadata": {},
   "outputs": [],
   "source": [
    "def extractor(symbols, ofdm):\n",
    "    indices = [i for i in range(ofdm.pilot_locs[0], ofdm.pilot_locs[-1]) if i not in ofdm.pilot_locs]\n",
    "    return symbols[:,indices]\n",
    "\n",
    "\n",
    "def standard_deconstructor(aud, ofdm, channel_H = None, retSymbs = False):\n",
    "    N = ofdm.N\n",
    "    L = ofdm.CP\n",
    "    QFSK_dict  = ofdm.QFSK_dict\n",
    "    backwards_dict = {v : k for k, v in QFSK_dict.items()}\n",
    "\n",
    "    bits_organised = aud.reshape((-1, L+N))\n",
    "\n",
    "    cut_bits = bits_organised[:,L:]\n",
    "\n",
    "    freq_data = fft(cut_bits)\n",
    "\n",
    "    # symbols = freq_data[:,1:int(N/2)]\n",
    "\n",
    "    # equalisation\n",
    "\n",
    "    if channel_H is None:\n",
    "        pass\n",
    "    else:\n",
    "        freq_data = freq_data / channel_H\n",
    "\n",
    "    symbols = extractor(freq_data, ofdm)\n",
    "\n",
    "    soliddata=[]\n",
    "    for i in symbols:\n",
    "        for j in i:\n",
    "            if j.real > 0 and j.imag > 0:\n",
    "                soliddata.extend([backwards_dict[1+1j][0],backwards_dict[1+1j][1]])\n",
    "            elif j.real < 0 and j.imag > 0:\n",
    "                soliddata.extend([backwards_dict[-1+1j][0],backwards_dict[-1+1j][1]])\n",
    "            elif j.real > 0 and j.imag < 0:\n",
    "                soliddata.extend([backwards_dict[1-1j][0],backwards_dict[1-1j][1]])\n",
    "            else:\n",
    "                soliddata.extend([backwards_dict[-1-1j][0],backwards_dict[-1-1j][1]])\n",
    "\n",
    "    if retSymbs == True:\n",
    "        return np.array(soliddata), symbols\n",
    "    else:\n",
    "        return np.array(soliddata)"
   ]
  },
  {
   "cell_type": "code",
   "execution_count": 44,
   "metadata": {},
   "outputs": [
    {
     "name": "stderr",
     "output_type": "stream",
     "text": [
      "/Users/metehergul/opt/anaconda3/lib/python3.8/site-packages/matplotlib/cbook/__init__.py:1289: ComplexWarning: Casting complex values to real discards the imaginary part\n",
      "  return np.asarray(x, float)\n"
     ]
    },
    {
     "data": {
      "image/png": "[encoded data removed]",
      "text/plain": [
       "<Figure size 432x288 with 1 Axes>"
      ]
     },
     "metadata": {
      "needs_background": "light"
     },
     "output_type": "display_data"
    }
   ],
   "source": [
    "plt.plot(payload.flatten()[50000:51000])\n",
    "x = standard_deconstructor(payload.flatten(), ofdm, channel_H = None, retSymbs = False)\n",
    "bitsToSaveImage(x[:214400], 'trialpayload', 67, 100)"
   ]
  },
  {
   "cell_type": "code",
   "execution_count": 5,
   "metadata": {},
   "outputs": [
    {
     "ename": "NameError",
     "evalue": "name 'chirp_symbol' is not defined",
     "output_type": "error",
     "traceback": [
      "\u001b[0;31m---------------------------------------------------------------------------\u001b[0m",
      "\u001b[0;31mNameError\u001b[0m                                 Traceback (most recent call last)",
      "\u001b[0;32m/var/folders/h0/cwzyh7p136q9dnctr1ylrns80000gn/T/ipykernel_79778/3467223432.py\u001b[0m in \u001b[0;36m<module>\u001b[0;34m\u001b[0m\n\u001b[1;32m      1\u001b[0m \u001b[0memtpy\u001b[0m \u001b[0;34m=\u001b[0m \u001b[0mnp\u001b[0m\u001b[0;34m.\u001b[0m\u001b[0mzeros\u001b[0m\u001b[0;34m(\u001b[0m\u001b[0mofdm\u001b[0m\u001b[0;34m.\u001b[0m\u001b[0mN\u001b[0m\u001b[0;34m)\u001b[0m\u001b[0;34m\u001b[0m\u001b[0;34m\u001b[0m\u001b[0m\n\u001b[1;32m      2\u001b[0m \u001b[0;34m\u001b[0m\u001b[0m\n\u001b[0;32m----> 3\u001b[0;31m \u001b[0mframe\u001b[0m \u001b[0;34m=\u001b[0m \u001b[0mframeMaker\u001b[0m\u001b[0;34m(\u001b[0m\u001b[0mchirp_symbol\u001b[0m\u001b[0;34m,\u001b[0m \u001b[0mpilot_full\u001b[0m\u001b[0;34m,\u001b[0m \u001b[0mpayload\u001b[0m\u001b[0;34m,\u001b[0m \u001b[0mofdm\u001b[0m\u001b[0;34m.\u001b[0m\u001b[0mofdmSymbolsPerFrame\u001b[0m\u001b[0;34m,\u001b[0m \u001b[0mzeros_post_sync\u001b[0m\u001b[0;34m=\u001b[0m\u001b[0memtpy\u001b[0m\u001b[0;34m,\u001b[0m \u001b[0mzeros_post_sybm\u001b[0m\u001b[0;34m=\u001b[0m\u001b[0memtpy\u001b[0m\u001b[0;34m)\u001b[0m\u001b[0;34m\u001b[0m\u001b[0;34m\u001b[0m\u001b[0m\n\u001b[0m\u001b[1;32m      4\u001b[0m \u001b[0mprint\u001b[0m\u001b[0;34m(\u001b[0m\u001b[0;34m\"Frame Shape:\"\u001b[0m\u001b[0;34m,\u001b[0m\u001b[0mnp\u001b[0m\u001b[0;34m.\u001b[0m\u001b[0mshape\u001b[0m\u001b[0;34m(\u001b[0m\u001b[0mframe\u001b[0m\u001b[0;34m)\u001b[0m\u001b[0;34m)\u001b[0m\u001b[0;34m\u001b[0m\u001b[0;34m\u001b[0m\u001b[0m\n\u001b[1;32m      5\u001b[0m \u001b[0maudio_for_file\u001b[0m \u001b[0;34m=\u001b[0m \u001b[0maudioMaker\u001b[0m\u001b[0;34m(\u001b[0m\u001b[0mframe\u001b[0m\u001b[0;34m,\u001b[0m \u001b[0;34m'multiframetest1'\u001b[0m\u001b[0;34m,\u001b[0m \u001b[0mfs\u001b[0m\u001b[0;34m)\u001b[0m\u001b[0;34m\u001b[0m\u001b[0;34m\u001b[0m\u001b[0m\n",
      "\u001b[0;31mNameError\u001b[0m: name 'chirp_symbol' is not defined"
     ]
    }
   ],
   "source": [
    "emtpy = np.zeros(ofdm.N)\n",
    "\n",
    "frame = frameMaker(chirp_symbol, pilot_full, payload, ofdm.ofdmSymbolsPerFrame, zeros_post_sync=emtpy, zeros_post_sybm=emtpy)\n",
    "print(\"Frame Shape:\",np.shape(frame))\n",
    "audio_for_file = audioMaker(frame, 'multiframetest1', fs)\n",
    "\n",
    "print(\"audio file length (samples, seconds):\",len(audio_for_file), len(audio_for_file)*1/fs)"
   ]
  },
  {
   "cell_type": "code",
   "execution_count": 6,
   "metadata": {},
   "outputs": [
    {
     "ename": "NameError",
     "evalue": "name 'audio_for_file' is not defined",
     "output_type": "error",
     "traceback": [
      "\u001b[0;31m---------------------------------------------------------------------------\u001b[0m",
      "\u001b[0;31mNameError\u001b[0m                                 Traceback (most recent call last)",
      "\u001b[0;32m/var/folders/h0/cwzyh7p136q9dnctr1ylrns80000gn/T/ipykernel_79778/2914368009.py\u001b[0m in \u001b[0;36m<module>\u001b[0;34m\u001b[0m\n\u001b[1;32m      1\u001b[0m \u001b[0mplt\u001b[0m\u001b[0;34m.\u001b[0m\u001b[0mfigure\u001b[0m\u001b[0;34m(\u001b[0m\u001b[0mfigsize\u001b[0m \u001b[0;34m=\u001b[0m \u001b[0;34m(\u001b[0m\u001b[0;36m30\u001b[0m\u001b[0;34m,\u001b[0m \u001b[0;36m10\u001b[0m\u001b[0;34m)\u001b[0m\u001b[0;34m)\u001b[0m\u001b[0;34m\u001b[0m\u001b[0;34m\u001b[0m\u001b[0m\n\u001b[0;32m----> 2\u001b[0;31m \u001b[0mplt\u001b[0m\u001b[0;34m.\u001b[0m\u001b[0mplot\u001b[0m\u001b[0;34m(\u001b[0m\u001b[0maudio_for_file\u001b[0m\u001b[0;34m[\u001b[0m\u001b[0;36m7500\u001b[0m\u001b[0;34m:\u001b[0m\u001b[0;36m12000\u001b[0m\u001b[0;34m]\u001b[0m\u001b[0;34m)\u001b[0m\u001b[0;34m\u001b[0m\u001b[0;34m\u001b[0m\u001b[0m\n\u001b[0m\u001b[1;32m      3\u001b[0m \u001b[0mprint\u001b[0m\u001b[0;34m(\u001b[0m\u001b[0;34m'Length of audio:'\u001b[0m\u001b[0;34m,\u001b[0m\u001b[0mlen\u001b[0m\u001b[0;34m(\u001b[0m\u001b[0maudio_for_file\u001b[0m\u001b[0;34m)\u001b[0m\u001b[0;34m)\u001b[0m\u001b[0;34m\u001b[0m\u001b[0;34m\u001b[0m\u001b[0m\n\u001b[1;32m      4\u001b[0m \u001b[0mprint\u001b[0m\u001b[0;34m(\u001b[0m\u001b[0;34m'Expected length of audio:'\u001b[0m\u001b[0;34m,\u001b[0m \u001b[0;34m(\u001b[0m\u001b[0mlen\u001b[0m\u001b[0;34m(\u001b[0m\u001b[0mpayload\u001b[0m\u001b[0;34m[\u001b[0m\u001b[0;36m0\u001b[0m\u001b[0;34m:\u001b[0m\u001b[0;36m5\u001b[0m\u001b[0;34m]\u001b[0m\u001b[0;34m.\u001b[0m\u001b[0mflatten\u001b[0m\u001b[0;34m(\u001b[0m\u001b[0;34m)\u001b[0m\u001b[0;34m)\u001b[0m\u001b[0;34m+\u001b[0m\u001b[0mlen\u001b[0m\u001b[0;34m(\u001b[0m\u001b[0mchirp_symbol\u001b[0m\u001b[0;34m)\u001b[0m\u001b[0;34m+\u001b[0m\u001b[0mlen\u001b[0m\u001b[0;34m(\u001b[0m\u001b[0memtpy\u001b[0m\u001b[0;34m)\u001b[0m\u001b[0;34m*\u001b[0m\u001b[0;36m2\u001b[0m\u001b[0;34m+\u001b[0m\u001b[0mlen\u001b[0m\u001b[0;34m(\u001b[0m\u001b[0mpilot_full\u001b[0m\u001b[0;34m)\u001b[0m\u001b[0;34m)\u001b[0m\u001b[0;34m)\u001b[0m\u001b[0;34m\u001b[0m\u001b[0;34m\u001b[0m\u001b[0m\n\u001b[1;32m      5\u001b[0m \u001b[0mprint\u001b[0m\u001b[0;34m(\u001b[0m\u001b[0;34m'Expected length of audio:'\u001b[0m\u001b[0;34m,\u001b[0m \u001b[0mlen\u001b[0m\u001b[0;34m(\u001b[0m\u001b[0mpayload\u001b[0m\u001b[0;34m.\u001b[0m\u001b[0mflatten\u001b[0m\u001b[0;34m(\u001b[0m\u001b[0;34m)\u001b[0m\u001b[0;34m)\u001b[0m\u001b[0;34m+\u001b[0m\u001b[0mlen\u001b[0m\u001b[0;34m(\u001b[0m\u001b[0mchirp_symbol\u001b[0m\u001b[0;34m)\u001b[0m\u001b[0;34m*\u001b[0m\u001b[0;36m42\u001b[0m\u001b[0;34m+\u001b[0m\u001b[0mlen\u001b[0m\u001b[0;34m(\u001b[0m\u001b[0memtpy\u001b[0m\u001b[0;34m)\u001b[0m\u001b[0;34m*\u001b[0m\u001b[0;36m42\u001b[0m\u001b[0;34m*\u001b[0m\u001b[0;36m2\u001b[0m\u001b[0;34m)\u001b[0m\u001b[0;34m\u001b[0m\u001b[0;34m\u001b[0m\u001b[0m\n",
      "\u001b[0;31mNameError\u001b[0m: name 'audio_for_file' is not defined"
     ]
    },
    {
     "data": {
      "text/plain": [
       "<Figure size 2160x720 with 0 Axes>"
      ]
     },
     "metadata": {},
     "output_type": "display_data"
    }
   ],
   "source": [
    "plt.figure(figsize = (30, 10))\n",
    "plt.plot(audio_for_file[7500:12000])\n",
    "print('Length of audio:',len(audio_for_file))\n",
    "print('Expected length of audio:', (len(payload[0:5].flatten())+len(chirp_symbol)+len(emtpy)*2+len(pilot_full)))\n",
    "print('Expected length of audio:', len(payload.flatten())+len(chirp_symbol)*42+len(emtpy)*42*2)"
   ]
  },
  {
   "cell_type": "code",
   "execution_count": 7,
   "metadata": {},
   "outputs": [
    {
     "ename": "KeyboardInterrupt",
     "evalue": "",
     "output_type": "error",
     "traceback": [
      "\u001b[0;31m---------------------------------------------------------------------------\u001b[0m",
      "\u001b[0;31mKeyboardInterrupt\u001b[0m                         Traceback (most recent call last)",
      "\u001b[0;32m/var/folders/h0/cwzyh7p136q9dnctr1ylrns80000gn/T/ipykernel_79778/695009573.py\u001b[0m in \u001b[0;36m<module>\u001b[0;34m\u001b[0m\n\u001b[0;32m----> 1\u001b[0;31m \u001b[0mrecord\u001b[0m\u001b[0;34m(\u001b[0m\u001b[0;36m18\u001b[0m\u001b[0;34m,\u001b[0m\u001b[0mfs\u001b[0m\u001b[0;34m,\u001b[0m\u001b[0;34m'big_frame_image'\u001b[0m\u001b[0;34m)\u001b[0m\u001b[0;34m\u001b[0m\u001b[0;34m\u001b[0m\u001b[0m\n\u001b[0m",
      "\u001b[0;32m~/gf3_v2/reciever.py\u001b[0m in \u001b[0;36mrecord\u001b[0;34m(timeofrec, fs, filename)\u001b[0m\n\u001b[1;32m     94\u001b[0m \u001b[0;34m\u001b[0m\u001b[0m\n\u001b[1;32m     95\u001b[0m     \u001b[0mmyrecording\u001b[0m \u001b[0;34m=\u001b[0m \u001b[0msd\u001b[0m\u001b[0;34m.\u001b[0m\u001b[0mrec\u001b[0m\u001b[0;34m(\u001b[0m\u001b[0mint\u001b[0m\u001b[0;34m(\u001b[0m\u001b[0mtimeofrec\u001b[0m \u001b[0;34m*\u001b[0m \u001b[0mfs\u001b[0m\u001b[0;34m)\u001b[0m\u001b[0;34m)\u001b[0m\u001b[0;34m\u001b[0m\u001b[0;34m\u001b[0m\u001b[0m\n\u001b[0;32m---> 96\u001b[0;31m     \u001b[0msd\u001b[0m\u001b[0;34m.\u001b[0m\u001b[0mwait\u001b[0m\u001b[0;34m(\u001b[0m\u001b[0;34m)\u001b[0m  \u001b[0;31m# Wait until recording is finished\u001b[0m\u001b[0;34m\u001b[0m\u001b[0;34m\u001b[0m\u001b[0m\n\u001b[0m\u001b[1;32m     97\u001b[0m \u001b[0;34m\u001b[0m\u001b[0m\n\u001b[1;32m     98\u001b[0m     \u001b[0mwrite\u001b[0m\u001b[0;34m(\u001b[0m\u001b[0;34m'{}.wav'\u001b[0m\u001b[0;34m.\u001b[0m\u001b[0mformat\u001b[0m\u001b[0;34m(\u001b[0m\u001b[0mfilename\u001b[0m\u001b[0;34m)\u001b[0m\u001b[0;34m,\u001b[0m \u001b[0mfs\u001b[0m\u001b[0;34m,\u001b[0m \u001b[0mmyrecording\u001b[0m\u001b[0;34m)\u001b[0m  \u001b[0;31m# Save as WAV file\u001b[0m\u001b[0;34m\u001b[0m\u001b[0;34m\u001b[0m\u001b[0m\n",
      "\u001b[0;32m~/opt/anaconda3/lib/python3.9/site-packages/sounddevice.py\u001b[0m in \u001b[0;36mwait\u001b[0;34m(ignore_errors)\u001b[0m\n\u001b[1;32m    393\u001b[0m     \"\"\"\n\u001b[1;32m    394\u001b[0m     \u001b[0;32mif\u001b[0m \u001b[0m_last_callback\u001b[0m\u001b[0;34m:\u001b[0m\u001b[0;34m\u001b[0m\u001b[0;34m\u001b[0m\u001b[0m\n\u001b[0;32m--> 395\u001b[0;31m         \u001b[0;32mreturn\u001b[0m \u001b[0m_last_callback\u001b[0m\u001b[0;34m.\u001b[0m\u001b[0mwait\u001b[0m\u001b[0;34m(\u001b[0m\u001b[0mignore_errors\u001b[0m\u001b[0;34m)\u001b[0m\u001b[0;34m\u001b[0m\u001b[0;34m\u001b[0m\u001b[0m\n\u001b[0m\u001b[1;32m    396\u001b[0m \u001b[0;34m\u001b[0m\u001b[0m\n\u001b[1;32m    397\u001b[0m \u001b[0;34m\u001b[0m\u001b[0m\n",
      "\u001b[0;32m~/opt/anaconda3/lib/python3.9/site-packages/sounddevice.py\u001b[0m in \u001b[0;36mwait\u001b[0;34m(self, ignore_errors)\u001b[0m\n\u001b[1;32m   2599\u001b[0m         \"\"\"\n\u001b[1;32m   2600\u001b[0m         \u001b[0;32mtry\u001b[0m\u001b[0;34m:\u001b[0m\u001b[0;34m\u001b[0m\u001b[0;34m\u001b[0m\u001b[0m\n\u001b[0;32m-> 2601\u001b[0;31m             \u001b[0mself\u001b[0m\u001b[0;34m.\u001b[0m\u001b[0mevent\u001b[0m\u001b[0;34m.\u001b[0m\u001b[0mwait\u001b[0m\u001b[0;34m(\u001b[0m\u001b[0;34m)\u001b[0m\u001b[0;34m\u001b[0m\u001b[0;34m\u001b[0m\u001b[0m\n\u001b[0m\u001b[1;32m   2602\u001b[0m         \u001b[0;32mfinally\u001b[0m\u001b[0;34m:\u001b[0m\u001b[0;34m\u001b[0m\u001b[0;34m\u001b[0m\u001b[0m\n\u001b[1;32m   2603\u001b[0m             \u001b[0mself\u001b[0m\u001b[0;34m.\u001b[0m\u001b[0mstream\u001b[0m\u001b[0;34m.\u001b[0m\u001b[0mclose\u001b[0m\u001b[0;34m(\u001b[0m\u001b[0mignore_errors\u001b[0m\u001b[0;34m)\u001b[0m\u001b[0;34m\u001b[0m\u001b[0;34m\u001b[0m\u001b[0m\n",
      "\u001b[0;32m~/opt/anaconda3/lib/python3.9/threading.py\u001b[0m in \u001b[0;36mwait\u001b[0;34m(self, timeout)\u001b[0m\n\u001b[1;32m    572\u001b[0m             \u001b[0msignaled\u001b[0m \u001b[0;34m=\u001b[0m \u001b[0mself\u001b[0m\u001b[0;34m.\u001b[0m\u001b[0m_flag\u001b[0m\u001b[0;34m\u001b[0m\u001b[0;34m\u001b[0m\u001b[0m\n\u001b[1;32m    573\u001b[0m             \u001b[0;32mif\u001b[0m \u001b[0;32mnot\u001b[0m \u001b[0msignaled\u001b[0m\u001b[0;34m:\u001b[0m\u001b[0;34m\u001b[0m\u001b[0;34m\u001b[0m\u001b[0m\n\u001b[0;32m--> 574\u001b[0;31m                 \u001b[0msignaled\u001b[0m \u001b[0;34m=\u001b[0m \u001b[0mself\u001b[0m\u001b[0;34m.\u001b[0m\u001b[0m_cond\u001b[0m\u001b[0;34m.\u001b[0m\u001b[0mwait\u001b[0m\u001b[0;34m(\u001b[0m\u001b[0mtimeout\u001b[0m\u001b[0;34m)\u001b[0m\u001b[0;34m\u001b[0m\u001b[0;34m\u001b[0m\u001b[0m\n\u001b[0m\u001b[1;32m    575\u001b[0m             \u001b[0;32mreturn\u001b[0m \u001b[0msignaled\u001b[0m\u001b[0;34m\u001b[0m\u001b[0;34m\u001b[0m\u001b[0m\n\u001b[1;32m    576\u001b[0m \u001b[0;34m\u001b[0m\u001b[0m\n",
      "\u001b[0;32m~/opt/anaconda3/lib/python3.9/threading.py\u001b[0m in \u001b[0;36mwait\u001b[0;34m(self, timeout)\u001b[0m\n\u001b[1;32m    310\u001b[0m         \u001b[0;32mtry\u001b[0m\u001b[0;34m:\u001b[0m    \u001b[0;31m# restore state no matter what (e.g., KeyboardInterrupt)\u001b[0m\u001b[0;34m\u001b[0m\u001b[0;34m\u001b[0m\u001b[0m\n\u001b[1;32m    311\u001b[0m             \u001b[0;32mif\u001b[0m \u001b[0mtimeout\u001b[0m \u001b[0;32mis\u001b[0m \u001b[0;32mNone\u001b[0m\u001b[0;34m:\u001b[0m\u001b[0;34m\u001b[0m\u001b[0;34m\u001b[0m\u001b[0m\n\u001b[0;32m--> 312\u001b[0;31m                 \u001b[0mwaiter\u001b[0m\u001b[0;34m.\u001b[0m\u001b[0macquire\u001b[0m\u001b[0;34m(\u001b[0m\u001b[0;34m)\u001b[0m\u001b[0;34m\u001b[0m\u001b[0;34m\u001b[0m\u001b[0m\n\u001b[0m\u001b[1;32m    313\u001b[0m                 \u001b[0mgotit\u001b[0m \u001b[0;34m=\u001b[0m \u001b[0;32mTrue\u001b[0m\u001b[0;34m\u001b[0m\u001b[0;34m\u001b[0m\u001b[0m\n\u001b[1;32m    314\u001b[0m             \u001b[0;32melse\u001b[0m\u001b[0;34m:\u001b[0m\u001b[0;34m\u001b[0m\u001b[0;34m\u001b[0m\u001b[0m\n",
      "\u001b[0;31mKeyboardInterrupt\u001b[0m: "
     ]
    }
   ],
   "source": [
    "record(18,fs,'big_frame_image') "
   ]
  },
  {
   "cell_type": "code",
   "execution_count": 26,
   "metadata": {},
   "outputs": [
    {
     "ename": "FileNotFoundError",
     "evalue": "[Errno 2] No such file or directory: 'big_frame_image.wav'",
     "output_type": "error",
     "traceback": [
      "\u001b[0;31m---------------------------------------------------------------------------\u001b[0m",
      "\u001b[0;31mFileNotFoundError\u001b[0m                         Traceback (most recent call last)",
      "\u001b[0;32m<ipython-input-26-9e92a681855d>\u001b[0m in \u001b[0;36m<module>\u001b[0;34m\u001b[0m\n\u001b[0;32m----> 1\u001b[0;31m \u001b[0mFs\u001b[0m\u001b[0;34m,\u001b[0m \u001b[0maud\u001b[0m \u001b[0;34m=\u001b[0m \u001b[0mread\u001b[0m\u001b[0;34m(\u001b[0m\u001b[0;34m'big_frame_image.wav'\u001b[0m\u001b[0;34m)\u001b[0m\u001b[0;34m\u001b[0m\u001b[0;34m\u001b[0m\u001b[0m\n\u001b[0m\u001b[1;32m      2\u001b[0m \u001b[0;34m\u001b[0m\u001b[0m\n\u001b[1;32m      3\u001b[0m \u001b[0mpowerSpectrum\u001b[0m\u001b[0;34m,\u001b[0m \u001b[0mfrequenciesFound\u001b[0m\u001b[0;34m,\u001b[0m \u001b[0mtime\u001b[0m\u001b[0;34m,\u001b[0m \u001b[0mimageAxis\u001b[0m \u001b[0;34m=\u001b[0m \u001b[0mplt\u001b[0m\u001b[0;34m.\u001b[0m\u001b[0mspecgram\u001b[0m\u001b[0;34m(\u001b[0m\u001b[0maud\u001b[0m\u001b[0;34m,\u001b[0m \u001b[0mFs\u001b[0m\u001b[0;34m=\u001b[0m\u001b[0mfs\u001b[0m\u001b[0;34m)\u001b[0m\u001b[0;34m\u001b[0m\u001b[0;34m\u001b[0m\u001b[0m\n\u001b[1;32m      4\u001b[0m \u001b[0mplt\u001b[0m\u001b[0;34m.\u001b[0m\u001b[0mshow\u001b[0m\u001b[0;34m(\u001b[0m\u001b[0;34m)\u001b[0m\u001b[0;34m\u001b[0m\u001b[0;34m\u001b[0m\u001b[0m\n",
      "\u001b[0;32m~/opt/anaconda3/lib/python3.8/site-packages/scipy/io/wavfile.py\u001b[0m in \u001b[0;36mread\u001b[0;34m(filename, mmap)\u001b[0m\n\u001b[1;32m    645\u001b[0m         \u001b[0mmmap\u001b[0m \u001b[0;34m=\u001b[0m \u001b[0;32mFalse\u001b[0m\u001b[0;34m\u001b[0m\u001b[0;34m\u001b[0m\u001b[0m\n\u001b[1;32m    646\u001b[0m     \u001b[0;32melse\u001b[0m\u001b[0;34m:\u001b[0m\u001b[0;34m\u001b[0m\u001b[0;34m\u001b[0m\u001b[0m\n\u001b[0;32m--> 647\u001b[0;31m         \u001b[0mfid\u001b[0m \u001b[0;34m=\u001b[0m \u001b[0mopen\u001b[0m\u001b[0;34m(\u001b[0m\u001b[0mfilename\u001b[0m\u001b[0;34m,\u001b[0m \u001b[0;34m'rb'\u001b[0m\u001b[0;34m)\u001b[0m\u001b[0;34m\u001b[0m\u001b[0;34m\u001b[0m\u001b[0m\n\u001b[0m\u001b[1;32m    648\u001b[0m \u001b[0;34m\u001b[0m\u001b[0m\n\u001b[1;32m    649\u001b[0m     \u001b[0;32mtry\u001b[0m\u001b[0;34m:\u001b[0m\u001b[0;34m\u001b[0m\u001b[0;34m\u001b[0m\u001b[0m\n",
      "\u001b[0;31mFileNotFoundError\u001b[0m: [Errno 2] No such file or directory: 'big_frame_image.wav'"
     ]
    }
   ],
   "source": [
    "Fs, aud = read('big_frame_image.wav')\n",
    "\n",
    "powerSpectrum, frequenciesFound, time, imageAxis = plt.specgram(aud, Fs=fs)\n",
    "plt.show()"
   ]
  },
  {
   "cell_type": "code",
   "execution_count": null,
   "metadata": {},
   "outputs": [],
   "source": [
    "plt.plot(np.correlate(aud, chirp_symbol, mode='full')[109200:109400])"
   ]
  },
  {
   "cell_type": "code",
   "execution_count": 9,
   "metadata": {},
   "outputs": [
    {
     "name": "stdout",
     "output_type": "stream",
     "text": [
      "'Twas brillig, and the slithy toves\n",
      "Did gyre and gimble in the wabe:\n",
      "All mimsy were the borogoves,\n",
      "And the mome raths outgrabe.\n",
      "\n",
      "\"Beware the Jabberwock, my son!\n",
      "The jaws that bite, the claws that catch!\n",
      "Beware the Jubjub bird, and shun\n",
      "The frumious Bandersnatch!\"\n",
      "\n",
      "He took his vorpal sword in hand;\n",
      "Long time the manxome foe he sought-\n",
      "So rested he by the Tumtum tree\n",
      "And stood awhile in thought.\n",
      "\n",
      "And, as in uffish thought he stood,\n",
      "The Jabberwock, with eyes of flame,\n",
      "Came whiffling through the tulgey wood,\n",
      "And burbled as it came!\n",
      "\n",
      "One, two! One, two! And through and through\n",
      "The vorpal blade went snicker-snack!\n",
      "He left it dead, and with its head\n",
      "He went galumphing back.\n",
      "\n",
      "\"And hast thou slain the Jabberwock?\n",
      "Come to my arms, my beamish boy!\n",
      "O frabjous day! Callooh! Callay!\"\n",
      "He chortled in his joy.\n",
      "\n",
      "'Twas brillig, and the slithy toves\n",
      "Did gyre and gimble in the wabe:\n",
      "All mimsy were the borogoves,\n",
      "And the mome raths outgrabe.\n"
     ]
    }
   ],
   "source": [
    "x = bitsFromTxt('jabberwocky.txt')\n",
    "# bitsFromTiff('jaguar.tiff')\n",
    "\n",
    "bitArrayToText(x)"
   ]
  },
  {
   "cell_type": "code",
   "execution_count": 4,
   "metadata": {},
   "outputs": [
    {
     "data": {
      "text/plain": [
       "[<matplotlib.lines.Line2D at 0x7ff2b10a81c0>]"
      ]
     },
     "execution_count": 4,
     "metadata": {},
     "output_type": "execute_result"
    },
    {
     "data": {
      "image/png": "[encoded data removed]",
      "text/plain": [
       "<Figure size 432x288 with 1 Axes>"
      ]
     },
     "metadata": {
      "needs_background": "light"
     },
     "output_type": "display_data"
    }
   ],
   "source": [
    "plt.plot(double_chirp())"
   ]
  },
  {
   "cell_type": "code",
   "execution_count": 4,
   "metadata": {},
   "outputs": [
    {
     "data": {
      "text/plain": [
       "array([ 49,  86, 123, 160, 197, 234, 271, 308, 345, 382, 419, 456, 493,\n",
       "       530, 567, 604, 641, 678, 715, 752, 789])"
      ]
     },
     "execution_count": 4,
     "metadata": {},
     "output_type": "execute_result"
    }
   ],
   "source": [
    "ofdm.pilot_locs"
   ]
  },
  {
   "cell_type": "code",
   "execution_count": 5,
   "metadata": {},
   "outputs": [],
   "source": [
    "import scipy"
   ]
  },
  {
   "cell_type": "code",
   "execution_count": 6,
   "metadata": {},
   "outputs": [
    {
     "name": "stderr",
     "output_type": "stream",
     "text": [
      "/Users/metehergul/opt/anaconda3/lib/python3.8/site-packages/scipy/signal/_peak_finding.py:261: ComplexWarning: Casting complex values to real discards the imaginary part\n",
      "  value = np.asarray(value, order='C', dtype=np.float64)\n"
     ]
    },
    {
     "data": {
      "text/plain": [
       "(array([ 48,  85, 122, 159, 196, 233, 270, 307, 344, 381, 418, 455, 492,\n",
       "        529, 566, 603, 640, 677, 714, 751, 788]),\n",
       " {})"
      ]
     },
     "execution_count": 6,
     "metadata": {},
     "output_type": "execute_result"
    }
   ],
   "source": [
    "pilot_test = addpilots(np.zeros(720), ofdm)\n",
    "\n",
    "scipy.signal.find_peaks(pilot_test)"
   ]
  },
  {
   "cell_type": "code",
   "execution_count": 7,
   "metadata": {},
   "outputs": [
    {
     "name": "stdout",
     "output_type": "stream",
     "text": [
      "[0.+0.j 0.+0.j 0.+0.j 0.+0.j 0.+0.j 0.+0.j 0.+0.j 0.+0.j 0.+0.j 0.+0.j\n",
      " 0.+0.j 0.+0.j 0.+0.j 0.+0.j 0.+0.j 0.+0.j 0.+0.j 0.+0.j 0.+0.j 0.+0.j\n",
      " 0.+0.j 0.+0.j 0.+0.j 0.+0.j 0.+0.j 0.+0.j 0.+0.j 0.+0.j 0.+0.j 0.+0.j\n",
      " 0.+0.j 0.+0.j 0.+0.j 0.+0.j 0.+0.j 0.+0.j 0.+0.j 0.+0.j 0.+0.j 0.+0.j\n",
      " 0.+0.j 0.+0.j 0.+0.j 0.+0.j 0.+0.j 0.+0.j 0.+0.j 0.+0.j 0.+0.j 1.+1.j\n",
      " 0.+0.j 0.+0.j 0.+0.j 0.+0.j 0.+0.j 0.+0.j 0.+0.j 0.+0.j 0.+0.j 0.+0.j\n",
      " 0.+0.j 0.+0.j 0.+0.j 0.+0.j 0.+0.j 0.+0.j 0.+0.j 0.+0.j 0.+0.j 0.+0.j\n",
      " 0.+0.j 0.+0.j 0.+0.j 0.+0.j 0.+0.j 0.+0.j 0.+0.j 0.+0.j 0.+0.j 0.+0.j\n",
      " 0.+0.j 0.+0.j 0.+0.j 0.+0.j 0.+0.j 0.+0.j 1.+1.j 0.+0.j 0.+0.j 0.+0.j\n",
      " 0.+0.j 0.+0.j 0.+0.j 0.+0.j 0.+0.j 0.+0.j 0.+0.j 0.+0.j 0.+0.j 0.+0.j]\n"
     ]
    }
   ],
   "source": [
    "gs = goodSymbols([np.zeros(720)], ofdm)[0]\n",
    "\n",
    "print(gs[:100])\n",
    "# goodSymbols fucks things up here."
   ]
  },
  {
   "cell_type": "code",
   "execution_count": 8,
   "metadata": {},
   "outputs": [
    {
     "data": {
      "text/plain": [
       "(2048,)"
      ]
     },
     "execution_count": 8,
     "metadata": {},
     "output_type": "execute_result"
    }
   ],
   "source": [
    "tds = ifft(gs, 2048)\n",
    "tds.shape"
   ]
  },
  {
   "cell_type": "code",
   "execution_count": 9,
   "metadata": {},
   "outputs": [
    {
     "name": "stderr",
     "output_type": "stream",
     "text": [
      "/Users/metehergul/opt/anaconda3/lib/python3.8/site-packages/matplotlib/cbook/__init__.py:1289: ComplexWarning: Casting complex values to real discards the imaginary part\n",
      "  return np.asarray(x, float)\n"
     ]
    },
    {
     "data": {
      "text/plain": [
       "[<matplotlib.lines.Line2D at 0x7fdf36093460>]"
      ]
     },
     "execution_count": 9,
     "metadata": {},
     "output_type": "execute_result"
    },
    {
     "data": {
      "image/png": "[encoded data removed]",
      "text/plain": [
       "<Figure size 432x288 with 1 Axes>"
      ]
     },
     "metadata": {
      "needs_background": "light"
     },
     "output_type": "display_data"
    }
   ],
   "source": [
    "plt.plot(tds)"
   ]
  },
  {
   "cell_type": "code",
   "execution_count": 11,
   "metadata": {},
   "outputs": [
    {
     "name": "stderr",
     "output_type": "stream",
     "text": [
      "/Users/metehergul/opt/anaconda3/lib/python3.8/site-packages/matplotlib/cbook/__init__.py:1289: ComplexWarning: Casting complex values to real discards the imaginary part\n",
      "  return np.asarray(x, float)\n"
     ]
    },
    {
     "data": {
      "text/plain": [
       "[<matplotlib.lines.Line2D at 0x7fdf36439400>]"
      ]
     },
     "execution_count": 11,
     "metadata": {},
     "output_type": "execute_result"
    },
    {
     "data": {
      "image/png": "[encoded data removed]",
      "text/plain": [
       "<Figure size 432x288 with 1 Axes>"
      ]
     },
     "metadata": {
      "needs_background": "light"
     },
     "output_type": "display_data"
    }
   ],
   "source": [
    "fds = fft(tds, int(2048))\n",
    "plt.plot(fds)"
   ]
  },
  {
   "cell_type": "code",
   "execution_count": 17,
   "metadata": {},
   "outputs": [
    {
     "data": {
      "text/plain": [
       "array([ 0.-0.j,  0.-0.j,  0.-0.j,  0.-0.j,  0.-0.j, -0.-0.j, -0.-0.j,\n",
       "       -0.+0.j,  0.-0.j, -0.-0.j,  0.+0.j,  0.-0.j,  0.-0.j,  0.-0.j,\n",
       "        0.-0.j,  0.-0.j,  1.+1.j, -0.+0.j,  0.+0.j, -0.-0.j,  0.+0.j,\n",
       "        0.-0.j,  0.+0.j, -0.+0.j,  0.-0.j])"
      ]
     },
     "execution_count": 17,
     "metadata": {},
     "output_type": "execute_result"
    }
   ],
   "source": []
  },
  {
   "cell_type": "code",
   "execution_count": 24,
   "metadata": {},
   "outputs": [],
   "source": [
    "# indices = [i for i in range(ofdm.pilot_locs[0], ofdm.pilot_locs[-1]) if i not in ofdm.pilot_locs]"
   ]
  },
  {
   "cell_type": "code",
   "execution_count": 25,
   "metadata": {},
   "outputs": [],
   "source": [
    "def extractor(symbols, ofdm):\n",
    "    indices = [i for i in range(ofdm.pilot_locs[0], ofdm.pilot_locs[-1]) if i not in ofdm.pilot_locs]\n",
    "    return symbols[:,indices]\n",
    "\n",
    "    "
   ]
  },
  {
   "cell_type": "code",
   "execution_count": null,
   "metadata": {},
   "outputs": [],
   "source": [
    "def standard_deconstructor(aud, ofdm, numpy_func = True, channel_H = None, retSymbs = False):\n",
    "    N = ofdm.N\n",
    "    L = ofdm.CP\n",
    "    QFSK_dict  = ofdm.QFSK_dict\n",
    "    backwards_dict = {v : k for k, v in QFSK_dict.items()}\n",
    "\n",
    "    bits_organised = aud.reshape((-1, L+N))\n",
    "\n",
    "    cut_bits = bits_organised[:,L:]\n",
    "\n",
    "    if numpy_func == True:\n",
    "        freq_data = np.fft.fft(cut_bits)\n",
    "    else:\n",
    "        freq_data = fft(cut_bits)\n",
    "\n",
    "\n",
    "    symbols = freq_data[:,1:int(N/2)]\n",
    "\n",
    "    # equalisation\n",
    "\n",
    "    if channel_H is None:\n",
    "        pass\n",
    "    else:\n",
    "        symbols = symbols / channel_H\n",
    "\n",
    "    symbols = extractor(symbols, ofdm)\n",
    "\n",
    "    soliddata=[]\n",
    "    for i in symbols:\n",
    "        for j in i:\n",
    "            if j.real > 0 and j.imag > 0:\n",
    "                soliddata.extend([backwards_dict[1+1j][0],backwards_dict[1+1j][1]])\n",
    "            elif j.real < 0 and j.imag > 0:\n",
    "                soliddata.extend([backwards_dict[-1+1j][0],backwards_dict[-1+1j][1]])\n",
    "            elif j.real > 0 and j.imag < 0:\n",
    "                soliddata.extend([backwards_dict[1-1j][0],backwards_dict[1-1j][1]])\n",
    "            else:\n",
    "                soliddata.extend([backwards_dict[-1-1j][0],backwards_dict[-1-1j][1]])\n",
    "\n",
    "    if retSymbs == True:\n",
    "        return np.array(soliddata), symbols\n",
    "    else:\n",
    "        return np.array(soliddata)"
   ]
  },
  {
   "cell_type": "code",
   "execution_count": 3,
   "metadata": {},
   "outputs": [],
   "source": [
    "import ldpc_jossy.py.ldpc as ldpc\n",
    "import numpy as np"
   ]
  },
  {
   "cell_type": "code",
   "execution_count": 4,
   "metadata": {},
   "outputs": [
    {
     "data": {
      "text/plain": [
       "'802.11n'"
      ]
     },
     "execution_count": 4,
     "metadata": {},
     "output_type": "execute_result"
    }
   ],
   "source": [
    "c = ldpc.code()\n",
    "c.standard"
   ]
  },
  {
   "cell_type": "code",
   "execution_count": 5,
   "metadata": {},
   "outputs": [],
   "source": [
    "u = np.random.randint(0,2,c.K)\n",
    "x = c.encode(u)"
   ]
  },
  {
   "cell_type": "code",
   "execution_count": 6,
   "metadata": {},
   "outputs": [],
   "source": [
    "np.mod(np.matmul(x,np.transpose(c.pcmat())), 2)\n",
    "y = 10*(.5-x)"
   ]
  },
  {
   "cell_type": "code",
   "execution_count": 8,
   "metadata": {},
   "outputs": [],
   "source": [
    "app,it = c.decode(y)"
   ]
  },
  {
   "cell_type": "code",
   "execution_count": 39,
   "metadata": {},
   "outputs": [],
   "source": [
    "class LDPC:\n",
    "    def __init__(self, rate, z) -> None:\n",
    "        self.rate = rate\n",
    "        self.z = z\n",
    "        self.coder = ldpc.code(rate = rate, z = z)\n",
    "\n",
    "    def encode(self, bin_seq):\n",
    "        Y = self.coder.pcmat().shape[0]\n",
    "        remainder = Y - (len(bin_seq) % Y)\n",
    "        coerced = np.concatenate((bin_seq, np.zeros(remainder)))\n",
    "        coerced = coerced.reshape(-1, self.coder.pcmat().shape[0])\n",
    "        return np.array([self.coder.encode(c) for c in coerced])\n",
    "\n",
    "    def decode(self, bin_seq):\n",
    "        recoerced = bin_seq.reshape(-1, self.coder.pcmat().shape[1])\n",
    "        return self.coder.decode(bin_seq)"
   ]
  },
  {
   "cell_type": "code",
   "execution_count": 40,
   "metadata": {},
   "outputs": [
    {
     "name": "stdout",
     "output_type": "stream",
     "text": [
      "(972, 1944)\n"
     ]
    },
    {
     "data": {
      "text/plain": [
       "(8, 1944)"
      ]
     },
     "execution_count": 40,
     "metadata": {},
     "output_type": "execute_result"
    }
   ],
   "source": [
    "bin_seq = bitsFromTxt('jabberwocky.txt')\n",
    "\n",
    "coder = LDPC(rate = \"1/2\", z = 81)\n",
    "\n",
    "print(coder.coder.pcmat().shape)\n",
    "\n",
    "\n",
    "ldpc_seq = coder.encode(bin_seq)\n",
    "\n",
    "ldpc_seq.shape"
   ]
  },
  {
   "cell_type": "code",
   "execution_count": 33,
   "metadata": {},
   "outputs": [],
   "source": [
    "remainder = 972 - (len(bin_seq) % 972)\n",
    "coerced = np.concatenate((bin_seq, np.zeros(remainder)))\n",
    "coerced = coerced.reshape(-1, coder.coder.pcmat().shape[0])"
   ]
  },
  {
   "cell_type": "code",
   "execution_count": 2,
   "metadata": {},
   "outputs": [],
   "source": [
    "import numpy as np\n",
    "\n",
    "np.random.seed(1234)\n",
    "vals = np.random.randint(0,4,741)"
   ]
  },
  {
   "cell_type": "code",
   "execution_count": 3,
   "metadata": {},
   "outputs": [
    {
     "data": {
      "text/plain": [
       "array([3, 3, 2, 1, 0, 0, 0, 1, 3, 1, 3, 1, 2, 2, 3, 2, 0, 0, 2, 2, 2, 0,\n",
       "       0, 0, 1, 0, 1, 3, 2, 2, 3, 2, 0, 3, 0, 1, 2, 2, 2, 3, 3, 3, 0, 1,\n",
       "       3, 0, 3, 2, 3, 0, 1, 3, 3, 3, 2, 1, 2, 3, 3, 0, 2, 3, 2, 0, 1, 3,\n",
       "       1, 0, 0, 0, 1, 1, 1, 3, 1, 3, 1, 0, 1, 0, 1, 0, 1, 0, 0, 0, 2, 0,\n",
       "       2, 0, 2, 3, 3, 1, 2, 1, 2, 2, 1, 1, 2, 3, 0, 3, 1, 2, 3, 2, 0, 2,\n",
       "       3, 3, 2, 2, 0, 0, 2, 3, 1, 3, 3, 2, 3, 2, 1, 2, 3, 0, 1, 0, 1, 2,\n",
       "       1, 2, 1, 2, 1, 1, 1, 3, 0, 3, 3, 1, 2, 0, 0, 1, 0, 1, 2, 1, 1, 2,\n",
       "       3, 2, 0, 1, 1, 1, 3, 2, 0, 0, 3, 0, 0, 2, 0, 0, 0, 0, 1, 0, 2, 1,\n",
       "       3, 0, 2, 0, 3, 2, 2, 3, 3, 2, 2, 1, 3, 0, 0, 1, 1, 2, 2, 3, 1, 0,\n",
       "       3, 2, 0, 1, 1, 1, 0, 0, 1, 3, 3, 0, 0, 0, 1, 1, 0, 2, 3, 1, 1, 2,\n",
       "       1, 3, 3, 3, 1, 3, 0, 0, 1, 0, 1, 3, 2, 1, 1, 2, 2, 2, 1, 0, 3, 0,\n",
       "       0, 0, 0, 0, 3, 3, 1, 1, 1, 2, 1, 3, 1, 3, 0, 3, 3, 1, 3, 3, 2, 3,\n",
       "       1, 2, 3, 2, 2, 0, 2, 1, 1, 3, 3, 3, 0, 3, 2, 0, 2, 1, 3, 3, 2, 0,\n",
       "       1, 1, 3, 2, 0, 3, 0, 2, 3, 1, 3, 1, 3, 0, 3, 1, 0, 0, 1, 2, 2, 3,\n",
       "       1, 0, 3, 1, 0, 1, 1, 0, 2, 3, 1, 2, 3, 1, 0, 3, 3, 3, 0, 2, 2, 1,\n",
       "       3, 3, 0, 1, 3, 0, 0, 0, 3, 0, 2, 1, 3, 0, 2, 0, 1, 1, 1, 0, 3, 1,\n",
       "       0, 1, 2, 1, 1, 2, 3, 1, 1, 0, 2, 1, 2, 1, 1, 3, 3, 1, 1, 1, 0, 0,\n",
       "       0, 2, 1, 3, 0, 3, 1, 2, 2, 3, 2, 1, 1, 0, 0, 2, 3, 3, 1, 3, 3, 2,\n",
       "       0, 0, 2, 2, 1, 2, 1, 0, 2, 3, 2, 3, 2, 0, 3, 0, 2, 0, 2, 0, 0, 3,\n",
       "       1, 2, 0, 0, 3, 3, 2, 3, 0, 2, 0, 2, 1, 1, 0, 0, 0, 1, 0, 3, 2, 3,\n",
       "       1, 3, 1, 0, 1, 1, 1, 2, 2, 3, 0, 1, 2, 3, 1, 0, 3, 1, 2, 2, 2, 0,\n",
       "       3, 3, 3, 1, 0, 1, 2, 3, 0, 0, 1, 2, 3, 2, 3, 3, 3, 0, 0, 1, 1, 1,\n",
       "       0, 1, 1, 1, 2, 3, 2, 3, 3, 3, 0, 0, 2, 2, 0, 3, 0, 2, 0, 2, 3, 2,\n",
       "       1, 0, 2, 1, 3, 2, 2, 1, 2, 1, 2, 2, 2, 1, 2, 2, 3, 0, 1, 0, 0, 1,\n",
       "       1, 3, 2, 2, 2, 2, 1, 0, 2, 1, 3, 2, 3, 1, 0, 3, 1, 2, 2, 1, 2, 1,\n",
       "       3, 1, 3, 0, 2, 2, 2, 1, 3, 0, 3, 3, 1, 2, 2, 3, 2, 3, 3, 2, 2, 0,\n",
       "       1, 0, 3, 0, 2, 2, 3, 1, 0, 2, 1, 2, 1, 0, 1, 1, 2, 3, 2, 2, 0, 0,\n",
       "       2, 0, 3, 1, 2, 3, 1, 3, 0, 3, 3, 2, 2, 1, 2, 3, 3, 3, 0, 2, 1, 1,\n",
       "       1, 1, 2, 2, 1, 2, 1, 1, 1, 0, 2, 3, 3, 0, 0, 1, 1, 3, 3, 3, 1, 1,\n",
       "       2, 1, 1, 2, 0, 2, 1, 3, 1, 1, 3, 0, 0, 1, 3, 1, 1, 0, 1, 1, 3, 0,\n",
       "       0, 1, 2, 0, 0, 0, 1, 1, 2, 3, 3, 0, 0, 2, 2, 0, 3, 3, 1, 3, 0, 3,\n",
       "       0, 1, 1, 3, 3, 0, 3, 0, 3, 2, 2, 1, 3, 1, 0, 3, 1, 2, 3, 1, 1, 0,\n",
       "       0, 1, 3, 3, 2, 3, 2, 0, 3, 1, 3, 3, 2, 0, 2, 3, 0, 1, 2, 1, 3, 3,\n",
       "       3, 3, 2, 1, 3, 2, 2, 0, 0, 2, 1, 3, 1, 3, 1])"
      ]
     },
     "execution_count": 3,
     "metadata": {},
     "output_type": "execute_result"
    }
   ],
   "source": [
    "vals"
   ]
  },
  {
   "cell_type": "code",
   "execution_count": null,
   "metadata": {},
   "outputs": [],
   "source": []
  }
 ],
 "metadata": {
  "kernelspec": {
   "display_name": "Python 3.8.5 ('base')",
   "language": "python",
   "name": "python3"
  },
  "language_info": {
   "codemirror_mode": {
    "name": "ipython",
    "version": 3
   },
   "file_extension": ".py",
   "mimetype": "text/x-python",
   "name": "python",
   "nbconvert_exporter": "python",
   "pygments_lexer": "ipython3",
   "version": "3.8.5"
  },
  "orig_nbformat": 4,
  "vscode": {
   "interpreter": {
    "hash": "6cb11340d5ee2a9359e94c0f762fdf09c9274af9b004affed5feea5ca7292c34"
   }
  }
 },
 "nbformat": 4,
 "nbformat_minor": 2
}
