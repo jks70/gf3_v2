{
 "cells": [
  {
   "attachments": {},
   "cell_type": "markdown",
   "metadata": {},
   "source": [
    "### This is a test for adding padding and new DFT lengths\n"
   ]
  },
  {
   "cell_type": "code",
   "execution_count": 1,
   "metadata": {},
   "outputs": [],
   "source": [
    "import numpy as np\n",
    "from scipy.signal import chirp, spectrogram\n",
    "import simpleaudio as sa\n",
    "from scipy.io.wavfile import write, read\n",
    "from scipy.fft import fft, ifft\n",
    "import matplotlib.pyplot as plt\n",
    "from transmitter import *\n",
    "from reciever import *\n",
    "import random"
   ]
  },
  {
   "cell_type": "code",
   "execution_count": 2,
   "metadata": {},
   "outputs": [],
   "source": [
    "fs = 44100\n",
    "class OFDM:\n",
    "    pass\n",
    "ofdm = OFDM()\n",
    "ofdm.N = 2048                   # Length of DTF\n",
    "ofdm.start_bin = 48\n",
    "ofdm.end_bin = 468\n",
    "ofdm.CP = 256                      \n",
    "ofdm.sfp = 20                   # Symbols per frame\n",
    "ofdm.pilot_tones = [0]          # Pilot locations\n",
    "ofdm.num_tones = 0              # Number of pilot tones\n",
    "ofdm.bps = 2                    # bits per symbol QFSK\n",
    "ofdm.preamb = ofdm.N//2\n",
    "ofdm.QFSK_dict = {              # The constellation\n",
    "    (1,1) : -1-1j,\n",
    "    (1,0) :  1-1j,\n",
    "    (0,0) :  1+1j,\n",
    "    (0,1) : -1+1j}"
   ]
  },
  {
   "cell_type": "code",
   "execution_count": null,
   "metadata": {},
   "outputs": [],
   "source": []
  }
 ],
 "metadata": {
  "kernelspec": {
   "display_name": "base",
   "language": "python",
   "name": "python3"
  },
  "language_info": {
   "codemirror_mode": {
    "name": "ipython",
    "version": 3
   },
   "file_extension": ".py",
   "mimetype": "text/x-python",
   "name": "python",
   "nbconvert_exporter": "python",
   "pygments_lexer": "ipython3",
   "version": "3.9.7"
  },
  "orig_nbformat": 4
 },
 "nbformat": 4,
 "nbformat_minor": 2
}
