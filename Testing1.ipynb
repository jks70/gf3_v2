{
 "cells": [
  {
   "attachments": {},
   "cell_type": "markdown",
   "metadata": {},
   "source": [
    "### This is a test for adding padding and new DFT lengths\n"
   ]
  },
  {
   "cell_type": "code",
   "execution_count": 1,
   "metadata": {},
   "outputs": [],
   "source": [
    "import numpy as np\n",
    "from scipy.signal import chirp, spectrogram\n",
    "import simpleaudio as sa\n",
    "from scipy.io.wavfile import write, read\n",
    "from scipy.fft import fft, ifft\n",
    "import matplotlib.pyplot as plt\n",
    "from transmitter import *\n",
    "from reciever import *\n",
    "import random"
   ]
  },
  {
   "cell_type": "code",
   "execution_count": 2,
   "metadata": {},
   "outputs": [],
   "source": [
    "fs = 44100\n",
    "class OFDM:\n",
    "    pass\n",
    "ofdm = OFDM()\n",
    "ofdm.N = 2048                   # Length of DTF\n",
    "ofdm.start_bin = 48\n",
    "ofdm.end_bin = 468\n",
    "ofdm.CP = 256                      \n",
    "ofdm.sfp = 20                   # Symbols per frame\n",
    "ofdm.pilot_tones = [0]          # Pilot locations\n",
    "ofdm.num_tones = 0              # Number of pilot tones\n",
    "ofdm.bps = 2                    # bits per symbol QFSK\n",
    "ofdm.preamb = ofdm.N//2\n",
    "ofdm.QFSK_dict = {              # The constellation\n",
    "    (1,1) : -1-1j,\n",
    "    (1,0) :  1-1j,\n",
    "    (0,0) :  1+1j,\n",
    "    (0,1) : -1+1j}"
   ]
  },
  {
   "cell_type": "code",
   "execution_count": null,
   "metadata": {},
   "outputs": [],
   "source": [
    "        ### Data forming With image\n",
    "#bit_array = bitsFromTiff('jaguar.tiff')\n",
    "\n",
    "        ### Data from text\n",
    "bit_array = \n",
    "print('Length of bits', len(bit_array))\n",
    "\n",
    "\n",
    "payload = fullTrans(bit_array, ofdm)\n",
    "#flat_payload = payload.flatten() / np.max(np.abs(payload.flatten()))\n",
    "print(\"payload shape:\",np.shape(payload))\n",
    "\n",
    "\n",
    "        ### Pilot symbol for channel estimation\n",
    "qfsk = np.array(list(ofdm.QFSK_dict.values()))\n",
    "pilot_block = np.random.choice(qfsk, size=(int(ofdm.N/2-1)), replace=True)\n",
    "pilot_symbs = goodSymbols(pilot_block, ofdm)\n",
    "pilot_full = addGuard(inversedft(pilot_symbs), ofdm)\n",
    "pilot_full = pilot_full.flatten() / np.max(np.abs(pilot_full.flatten()))\n",
    "\n",
    "\n",
    "        ### Chirp makeing for sync\n",
    "chirp_time = 5*(ofdm.N+ofdm.CP) / fs\n",
    "t = np.linspace(0, chirp_time, int(chirp_time * fs), False)\n",
    "note = chirp(t, f0=500, f1=15000, t1=chirp_time, method='linear')\n",
    "chirp_symbol = note / np.max(np.abs(note))"
   ]
  },
  {
   "cell_type": "code",
   "execution_count": null,
   "metadata": {},
   "outputs": [],
   "source": [
    "plt.plot(payload.flatten()[50000:51000])\n",
    "x = deconstruct(payload.flatten(), ofdm, numpy_func = True, channel_H = None, retSymbs = False)\n",
    "bitsToSaveImage(x[:214400], 'trialpayload', 67, 100)"
   ]
  },
  {
   "cell_type": "code",
   "execution_count": null,
   "metadata": {},
   "outputs": [],
   "source": [
    "emtpy = np.zeros(ofdm.N)\n",
    "\n",
    "frame = frameMaker(chirp_symbol, pilot_full, payload, ofdm.ofdmSymbolsPerFrame, zeros_post_sync=emtpy, zeros_post_sybm=emtpy)\n",
    "print(\"Frame Shape:\",np.shape(frame))\n",
    "audio_for_file = audioMaker(frame, 'multiframetest1', fs)\n",
    "\n",
    "print(\"audio file length (samples, seconds):\",len(audio_for_file), len(audio_for_file)*1/fs)"
   ]
  },
  {
   "cell_type": "code",
   "execution_count": null,
   "metadata": {},
   "outputs": [],
   "source": [
    "plt.figure(figsize = (30, 10))\n",
    "plt.plot(audio_for_file[7500:12000])\n",
    "print('Length of audio:',len(audio_for_file))\n",
    "print('Expected length of audio:', (len(payload[0:5].flatten())+len(chirp_symbol)+len(emtpy)*2+len(pilot_full)))\n",
    "print('Expected length of audio:', len(payload.flatten())+len(chirp_symbol)*42+len(emtpy)*42*2)"
   ]
  },
  {
   "cell_type": "code",
   "execution_count": null,
   "metadata": {},
   "outputs": [],
   "source": [
    "record(18,fs,'big_frame_image') "
   ]
  },
  {
   "cell_type": "code",
   "execution_count": null,
   "metadata": {},
   "outputs": [],
   "source": [
    "Fs, aud = read('big_frame_image.wav')\n",
    "\n",
    "powerSpectrum, frequenciesFound, time, imageAxis = plt.specgram(aud, Fs=fs)\n",
    "plt.show()"
   ]
  },
  {
   "cell_type": "code",
   "execution_count": null,
   "metadata": {},
   "outputs": [],
   "source": [
    "plt.plot(np.correlate(aud, chirp_symbol, mode='full')[109200:109400])"
   ]
  }
 ],
 "metadata": {
  "kernelspec": {
   "display_name": "base",
   "language": "python",
   "name": "python3"
  },
  "language_info": {
   "codemirror_mode": {
    "name": "ipython",
    "version": 3
   },
   "file_extension": ".py",
   "mimetype": "text/x-python",
   "name": "python",
   "nbconvert_exporter": "python",
   "pygments_lexer": "ipython3",
   "version": "3.9.7"
  },
  "orig_nbformat": 4
 },
 "nbformat": 4,
 "nbformat_minor": 2
}
